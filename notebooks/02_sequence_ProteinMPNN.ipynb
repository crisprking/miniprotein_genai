{
  "nbformat": 4,
  "nbformat_minor": 0,
  "metadata": {
    "colab": {
      "provenance": [],
      "authorship_tag": "ABX9TyPcYIAD+4FGFVGRz2GL+zRh",
      "include_colab_link": true
    },
    "kernelspec": {
      "name": "python3",
      "display_name": "Python 3"
    },
    "language_info": {
      "name": "python"
    }
  },
  "cells": [
    {
      "cell_type": "markdown",
      "metadata": {
        "id": "view-in-github",
        "colab_type": "text"
      },
      "source": [
        "<a href=\"https://colab.research.google.com/github/crisprking/miniprotein_genai/blob/main/notebooks/02_sequence_ProteinMPNN.ipynb\" target=\"_parent\"><img src=\"https://colab.research.google.com/assets/colab-badge.svg\" alt=\"Open In Colab\"/></a>"
      ]
    },
    {
      "cell_type": "code",
      "execution_count": null,
      "metadata": {
        "id": "wd5McFewJFOX"
      },
      "outputs": [],
      "source": [
        "<details><summary>Cell 1 – Install ProteinMPNN</summary>\n",
        "python\n",
        "\n",
        "#@title 🔧 Install ProteinMPNN\n",
        "!pip install --quiet proteinmpnn\n",
        "\n",
        "</details> <details><summary>Cell 2 – Run design</summary>\n",
        "python\n",
        "\n",
        "#@title 🚀 ProteinMPNN\n",
        "pdb_path   = \"outputs/design1_0.pdb\"  #@param {type:\"string\"}\n",
        "num_seqs   = 8                        #@param {type:\"integer\"}\n",
        "temp       = 0.1                      #@param {type:\"number\"}\n",
        "\n",
        "import subprocess, pathlib\n",
        "cmd = [\n",
        "    \"python\",\"-m\",\"proteinmpnn.run\",\n",
        "    \"--pdb_path\", pdb_path,\n",
        "    \"--num_seq_per_target\", str(num_seqs),\n",
        "    \"--sampling_temp\", str(temp),\n",
        "    \"--out_folder\", \"outputs/mpnn\"\n",
        "]\n",
        "subprocess.check_call(cmd)\n",
        "print(\"✅ FASTA files in outputs/mpnn/\")\n",
        "\n",
        "\n",
        "</details> <details><summary>Cell 3 – Show first sequence</summary>\n",
        "python\n",
        "\n",
        "#@title 📄 Preview sequence\n",
        "import glob, textwrap\n",
        "fa = sorted(glob.glob(\"outputs/mpnn/*.fa\"))[0]\n",
        "print(textwrap.indent(open(fa).read(),\"  \"))\n",
        "\n",
        "\n",
        "\n",
        "\n",
        "\n",
        "\n"
      ]
    }
  ]
}