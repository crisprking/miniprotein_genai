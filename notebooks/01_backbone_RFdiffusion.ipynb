{
  "nbformat": 4,
  "nbformat_minor": 0,
  "metadata": {
    "colab": {
      "provenance": [],
      "authorship_tag": "ABX9TyOqY2RfUhjKn82Xzc1VGE5j",
      "include_colab_link": true
    },
    "kernelspec": {
      "name": "python3",
      "display_name": "Python 3"
    },
    "language_info": {
      "name": "python"
    }
  },
  "cells": [
    {
      "cell_type": "markdown",
      "metadata": {
        "id": "view-in-github",
        "colab_type": "text"
      },
      "source": [
        "<a href=\"https://colab.research.google.com/github/crisprking/miniprotein_genai/blob/main/notebooks/01_backbone_RFdiffusion.ipynb\" target=\"_parent\"><img src=\"https://colab.research.google.com/assets/colab-badge.svg\" alt=\"Open In Colab\"/></a>"
      ]
    },
    {
      "cell_type": "code",
      "source": [
        "# 🔧 Install RFdiffusion & helpers (≈3 min on Colab GPU)\n",
        "%%bash\n",
        "set -e\n",
        "\n",
        "# 1.  Basic Python deps\n",
        "python -m pip install --quiet --upgrade pip\n",
        "python -m pip install --quiet py3Dmol omegaconf hydra-core jedi \\\n",
        "    git+https://github.com/NVIDIA/dllogger#egg=dllogger\n",
        "\n",
        "# 2.  DGL + e3nn (GPU wheels, no heavy CUDA deps pulled)\n",
        "python -m pip install --quiet --no-dependencies \\\n",
        "    dgl==2.0.0 -f https://data.dgl.ai/wheels/cu121/repo.html\n",
        "python -m pip install --quiet --no-dependencies e3nn==0.5.5 opt_einsum_fx\n",
        "\n",
        "# 3.  Clone RFdiffusion (if not already)\n",
        "if [ ! -d RFdiffusion ]; then\n",
        "  git clone --depth 1 https://github.com/sokrypton/RFdiffusion.git\n",
        "fi\n",
        "\n",
        "# 4.  Build & install the SE3Transformer sub‑module\n",
        "python -m pip install --quiet ./RFdiffusion/env/SE3Transformer\n",
        "\n",
        "# 5.  ColabDesign (this repo *is* pip‑packaged)\n",
        "python -m pip install --quiet git+https://github.com/sokrypton/ColabDesign.git\n",
        "\n",
        "echo \"✅  RFdiffusion + ColabDesign environment ready\"\n"
      ],
      "metadata": {
        "id": "80efzUlqPdU9"
      },
      "execution_count": null,
      "outputs": []
    },
    {
      "cell_type": "code",
      "source": [
        "# ⚙️ User parameters\n",
        "name        = \"design1\"   #@param {type:\"string\"}\n",
        "length      = 100         #@param {type:\"integer\"}\n",
        "symmetry    = \"none\"      #@param [\"none\",\"cyclic\",\"dihedral\"]\n",
        "order       = 1           #@param {type:\"integer\"}\n",
        "num_designs = 1           #@param {type:\"integer\"}\n",
        "iterations  = 50          #@param [\"25\",\"50\",\"100\",\"150\",\"200\"] {type:\"raw\"}\n",
        "print(f\"Backbone length {length}, copies {num_designs}\")\n"
      ],
      "metadata": {
        "id": "f39nqZngPfZR"
      },
      "execution_count": null,
      "outputs": []
    },
    {
      "cell_type": "code",
      "source": [
        "# 🚀 Run RFdiffusion\n",
        "import subprocess\n",
        "contigs = f\"{length}\"\n",
        "out_prefix = f\"outputs/{name}\"\n",
        "\n",
        "cmd = [\n",
        "    \"python\",\"-m\",\"RFdiffusion.run_inference\",\n",
        "    f\"contigmap.contigs=[{contigs}]\",\n",
        "    f\"inference.output_prefix={out_prefix}\",\n",
        "    f\"inference.num_designs={num_designs}\",\n",
        "    f\"diffuser.T={iterations}\",\n",
        "    \"inference.dump_pdb=True\",\n",
        "    \"inference.dump_pdb_path=/dev/shm\"\n",
        "]\n",
        "if symmetry != \"none\":\n",
        "    symflag = f\"{symmetry[0]}{order}\"\n",
        "    cmd = [\"python\",\"-m\",\"RFdiffusion.run_inference\",\"--config-name\",\"symmetry\",\n",
        "           f\"inference.symmetry={symflag}\"] + cmd[2:]\n",
        "\n",
        "print(\"Running:\\n\", \" \".join(cmd))\n",
        "subprocess.check_call(cmd)\n",
        "print(\"✅ Backbone(s) finished; files in /content/outputs/\")\n"
      ],
      "metadata": {
        "id": "WuySor7HPhBh"
      },
      "execution_count": null,
      "outputs": []
    },
    {
      "cell_type": "code",
      "source": [
        "# 👀 Preview first backbone\n",
        "import glob, py3Dmol\n",
        "pdb = glob.glob(f\"outputs/{name}_0.pdb\")[0]\n",
        "view = py3Dmol.view(js='https://3dmol.org/build/3Dmol.js')\n",
        "view.addModel(open(pdb).read(),'pdb')\n",
        "view.setStyle({'cartoon':{'color':'spectrum'}})\n",
        "view.zoomTo(); view.show()\n"
      ],
      "metadata": {
        "id": "MruLcELwPizd"
      },
      "execution_count": null,
      "outputs": []
    },
    {
      "cell_type": "code",
      "source": [
        "# 📦 Download result\n",
        "import shutil, google.colab\n",
        "zip_name = f\"{name}.result\"\n",
        "shutil.make_archive(zip_name, \"zip\", root_dir=\"outputs\", base_dir=name)\n",
        "google.colab.files.download(f\"{zip_name}.zip\")\n"
      ],
      "metadata": {
        "id": "RGYnp123Pj9D"
      },
      "execution_count": null,
      "outputs": []
    }
  ]
}