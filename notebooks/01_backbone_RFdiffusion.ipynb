{
  "nbformat": 4,
  "nbformat_minor": 0,
  "metadata": {
    "colab": {
      "provenance": [],
      "authorship_tag": "ABX9TyPRve3iiIcErI6j4coGSV50",
      "include_colab_link": true
    },
    "kernelspec": {
      "name": "python3",
      "display_name": "Python 3"
    },
    "language_info": {
      "name": "python"
    }
  },
  "cells": [
    {
      "cell_type": "markdown",
      "metadata": {
        "id": "view-in-github",
        "colab_type": "text"
      },
      "source": [
        "<a href=\"https://colab.research.google.com/github/crisprking/miniprotein_genai/blob/main/notebooks/01_backbone_RFdiffusion.ipynb\" target=\"_parent\"><img src=\"https://colab.research.google.com/assets/colab-badge.svg\" alt=\"Open In Colab\"/></a>"
      ]
    },
    {
      "cell_type": "code",
      "source": [
        "# 01 · Backbone generation with RFdiffusion\n",
        "# One‑click Colab notebook: installs RFdiffusion, generates de novo backbones,\n",
        "# and lets you preview / download the PDBs.\n"
      ],
      "metadata": {
        "id": "bNpYFFCQWRLT"
      },
      "execution_count": 10,
      "outputs": []
    },
    {
      "cell_type": "code",
      "source": [
        "# 🔧 Environment setup  (≈3 min on first run)\n",
        "%%bash\n",
        "set -e\n",
        "python -m pip install --quiet --upgrade pip\n",
        "python -m pip install --quiet py3Dmol omegaconf hydra-core jedi icecream \\\n",
        "    git+https://github.com/NVIDIA/dllogger#egg=dllogger\n",
        "python -m pip install --quiet --no-dependencies \\\n",
        "    dgl==2.0.0 -f https://data.dgl.ai/wheels/cu121/repo.html\n",
        "python -m pip install --quiet --no-dependencies e3nn==0.5.5 opt_einsum_fx\n",
        "\n",
        "if [ ! -d RFdiffusion ]; then\n",
        "  git clone --depth 1 https://github.com/sokrypton/RFdiffusion.git\n",
        "fi\n",
        "\n",
        "python -m pip install --quiet ./RFdiffusion/env/SE3Transformer\n",
        "python -m pip install --quiet git+https://github.com/sokrypton/ColabDesign.git\n",
        "echo \"Environment ready\"\n"
      ],
      "metadata": {
        "colab": {
          "base_uri": "https://localhost:8080/"
        },
        "id": "DUPzc1-RXki6",
        "outputId": "c418652b-ba1b-4f04-fb3b-87f9b4bd8d0e"
      },
      "execution_count": 15,
      "outputs": [
        {
          "output_type": "stream",
          "name": "stdout",
          "text": [
            "Environment ready\n"
          ]
        },
        {
          "output_type": "stream",
          "name": "stderr",
          "text": [
            "  DEPRECATION: Building 'se3-transformer' using the legacy setup.py bdist_wheel mechanism, which will be removed in a future version. pip 25.3 will enforce this behaviour change. A possible replacement is to use the standardized build interface by setting the `--use-pep517` option, (possibly combined with `--no-build-isolation`), or adding a `pyproject.toml` file to the source tree of 'se3-transformer'. Discussion can be found at https://github.com/pypa/pip/issues/6334\n"
          ]
        }
      ]
    },
    {
      "cell_type": "code",
      "source": [
        "!pip install --quiet pyrsistent scipy\n"
      ],
      "metadata": {
        "id": "RwqyXqvQZP0w"
      },
      "execution_count": 18,
      "outputs": []
    },
    {
      "cell_type": "code",
      "source": [
        "import sys, pathlib\n",
        "sys.path.append(\"/content/RFdiffusion\")\n",
        "from RFdiffusion.inference import utils as rfu\n",
        "print(\"RFdiffusion import ✅\")\n",
        "\n"
      ],
      "metadata": {
        "colab": {
          "base_uri": "https://localhost:8080/"
        },
        "id": "MPm2BjYfXl50",
        "outputId": "f27c8ec5-f56b-45e4-93a6-08cb400a1229"
      },
      "execution_count": 19,
      "outputs": [
        {
          "output_type": "stream",
          "name": "stdout",
          "text": [
            "RFdiffusion import ✅\n"
          ]
        }
      ]
    },
    {
      "cell_type": "code",
      "source": [
        "# ⚙️ Design parameters\n",
        "name        = \"design1\"   #@param {type:\"string\"}\n",
        "length      = 100         #@param {type:\"integer\"}\n",
        "iterations  = 50          #@param [\"25\",\"50\",\"100\",\"150\",\"200\"] {type:\"raw\"}\n",
        "num_designs = 1           #@param {type:\"integer\"}\n",
        "print(f\"Will create {num_designs} backbone(s) of length {length}\")\n"
      ],
      "metadata": {
        "id": "DjhTsucvXnKg"
      },
      "execution_count": null,
      "outputs": []
    },
    {
      "cell_type": "code",
      "source": [
        "# 🚀 Generate backbone(s)  — final working version\n",
        "import subprocess, pathlib, urllib.request, shutil, os\n",
        "\n",
        "# ------------------------------------------------------------------\n",
        "# 0.  Parameters (use existing globals if they exist)\n",
        "name        = globals().get(\"name\", \"design1\")\n",
        "length      = globals().get(\"length\", 100)\n",
        "iterations  = globals().get(\"iterations\", 50)\n",
        "num_designs = globals().get(\"num_designs\", 1)\n",
        "# ------------------------------------------------------------------\n",
        "\n",
        "# 1.  Download model files and schedules once\n",
        "urls = {\n",
        "    \"Base_ckpt.pt\":      \"https://files.ipd.uw.edu/pub/RFdiffusion/6f5902ac237024bdd0c176cb93063dc4/Base_ckpt.pt\",\n",
        "    \"Complex_base_ckpt.pt\": \"https://files.ipd.uw.edu/pub/RFdiffusion/e29311f6f1bf1af907f9ef9f44b8328b/Complex_base_ckpt.pt\",\n",
        "    \"schedules.zip\":     \"https://files.ipd.uw.edu/krypton/schedules.zip\",\n",
        "}\n",
        "for fname, url in urls.items():\n",
        "    if not pathlib.Path(fname).exists():\n",
        "        print(\"⬇️\", fname)\n",
        "        urllib.request.urlretrieve(url, fname)\n",
        "        if fname.endswith(\".zip\"):\n",
        "            shutil.unpack_archive(fname, \".\")\n",
        "            pathlib.Path(fname).unlink()\n",
        "model_dir = pathlib.Path(\"RFdiffusion/models\"); model_dir.mkdir(parents=True, exist_ok=True)\n",
        "for ck in (\"Base_ckpt.pt\", \"Complex_base_ckpt.pt\"):\n",
        "    src, dst = pathlib.Path(ck), model_dir / ck\n",
        "    if src.exists() and not dst.exists():\n",
        "        shutil.move(str(src), dst)\n",
        "\n",
        "# 2.  Build command  (note the **quoted** contig)\n",
        "contig_arg = f'contigmap.contigs=[\"{length}\"]'        # ← key fix\n",
        "out_prefix = f\"outputs/{name}\"\n",
        "os.makedirs(\"outputs\", exist_ok=True)\n",
        "\n",
        "cmd = [\n",
        "    \"python\", \"RFdiffusion/run_inference.py\",\n",
        "    contig_arg,\n",
        "    f\"inference.output_prefix={out_prefix}\",\n",
        "    f\"inference.num_designs={num_designs}\",\n",
        "    f\"diffuser.T={iterations}\",\n",
        "    \"inference.dump_pdb=True\",\n",
        "    \"inference.dump_pdb_path=/dev/shm\",\n",
        "]\n",
        "\n",
        "print(\"• Running\\n\", \" \".join(cmd), \"\\n\")\n",
        "\n",
        "# 3.  Stream RFdiffusion log live\n",
        "with subprocess.Popen(cmd, stdout=subprocess.PIPE, stderr=subprocess.STDOUT, text=True) as p:\n",
        "    for line in p.stdout:\n",
        "        print(line, end=\"\")\n",
        "    p.wait()\n",
        "    rc = p.returncode\n",
        "\n",
        "if rc != 0:\n",
        "    raise RuntimeError(f\"RFdiffusion failed (exit {rc}) — scroll up for full log\")\n",
        "print(\"✅  Backbones saved under outputs/\")\n",
        "\n",
        "\n"
      ],
      "metadata": {
        "colab": {
          "base_uri": "https://localhost:8080/"
        },
        "id": "0TAYcbCQXoHZ",
        "outputId": "0f353e36-33e7-4cef-8eec-a29231f2ed75"
      },
      "execution_count": 24,
      "outputs": [
        {
          "output_type": "stream",
          "name": "stdout",
          "text": [
            "⬇️ schedules.zip\n",
            "• Running\n",
            " python RFdiffusion/run_inference.py contigmap.contigs=[\"100\"] inference.output_prefix=outputs/design1 inference.num_designs=1 diffuser.T=50 inference.dump_pdb=True inference.dump_pdb_path=/dev/shm \n",
            "\n",
            "/content/RFdiffusion/Track_module.py:241: FutureWarning: `torch.cuda.amp.autocast(args...)` is deprecated. Please use `torch.amp.autocast('cuda', args...)` instead.\n",
            "  @torch.cuda.amp.autocast(enabled=False)\n",
            "[2025-07-26 01:54:30,527][inference.model_runners][INFO] - Reading checkpoint from /content/RFdiffusion/inference/../models/Base_ckpt.pt\n",
            "This is inf_conf.ckpt_path\n",
            "/content/RFdiffusion/inference/../models/Base_ckpt.pt\n",
            "Assembling -model, -diffuser and -preprocess configs from checkpoint\n",
            "USING MODEL CONFIG: self._conf[model][n_extra_block] = 4\n",
            "USING MODEL CONFIG: self._conf[model][n_main_block] = 32\n",
            "USING MODEL CONFIG: self._conf[model][n_ref_block] = 4\n",
            "USING MODEL CONFIG: self._conf[model][d_msa] = 256\n",
            "USING MODEL CONFIG: self._conf[model][d_msa_full] = 64\n",
            "USING MODEL CONFIG: self._conf[model][d_pair] = 128\n",
            "USING MODEL CONFIG: self._conf[model][d_templ] = 64\n",
            "USING MODEL CONFIG: self._conf[model][n_head_msa] = 8\n",
            "USING MODEL CONFIG: self._conf[model][n_head_pair] = 4\n",
            "USING MODEL CONFIG: self._conf[model][n_head_templ] = 4\n",
            "USING MODEL CONFIG: self._conf[model][d_hidden] = 32\n",
            "USING MODEL CONFIG: self._conf[model][d_hidden_templ] = 32\n",
            "USING MODEL CONFIG: self._conf[model][p_drop] = 0.15\n",
            "USING MODEL CONFIG: self._conf[model][SE3_param_full] = {'num_layers': 1, 'num_channels': 32, 'num_degrees': 2, 'n_heads': 4, 'div': 4, 'l0_in_features': 8, 'l0_out_features': 8, 'l1_in_features': 3, 'l1_out_features': 2, 'num_edge_features': 32}\n",
            "USING MODEL CONFIG: self._conf[model][SE3_param_topk] = {'num_layers': 1, 'num_channels': 32, 'num_degrees': 2, 'n_heads': 4, 'div': 4, 'l0_in_features': 64, 'l0_out_features': 64, 'l1_in_features': 3, 'l1_out_features': 2, 'num_edge_features': 64}\n",
            "USING MODEL CONFIG: self._conf[model][d_time_emb] = 0\n",
            "USING MODEL CONFIG: self._conf[model][d_time_emb_proj] = 10\n",
            "USING MODEL CONFIG: self._conf[model][freeze_track_motif] = False\n",
            "USING MODEL CONFIG: self._conf[model][use_motif_timestep] = True\n",
            "USING MODEL CONFIG: self._conf[diffuser][T] = 50\n",
            "USING MODEL CONFIG: self._conf[diffuser][b_0] = 0.01\n",
            "USING MODEL CONFIG: self._conf[diffuser][b_T] = 0.07\n",
            "USING MODEL CONFIG: self._conf[diffuser][schedule_type] = linear\n",
            "USING MODEL CONFIG: self._conf[diffuser][so3_type] = igso3\n",
            "USING MODEL CONFIG: self._conf[diffuser][crd_scale] = 0.25\n",
            "USING MODEL CONFIG: self._conf[diffuser][so3_schedule_type] = linear\n",
            "USING MODEL CONFIG: self._conf[diffuser][min_b] = 1.5\n",
            "USING MODEL CONFIG: self._conf[diffuser][max_b] = 2.5\n",
            "USING MODEL CONFIG: self._conf[diffuser][min_sigma] = 0.02\n",
            "USING MODEL CONFIG: self._conf[diffuser][max_sigma] = 1.5\n",
            "USING MODEL CONFIG: self._conf[preprocess][sidechain_input] = False\n",
            "USING MODEL CONFIG: self._conf[preprocess][motif_sidechain_input] = True\n",
            "USING MODEL CONFIG: self._conf[preprocess][d_t1d] = 22\n",
            "USING MODEL CONFIG: self._conf[preprocess][d_t2d] = 44\n",
            "USING MODEL CONFIG: self._conf[preprocess][prob_self_cond] = 0.5\n",
            "USING MODEL CONFIG: self._conf[preprocess][str_self_cond] = True\n",
            "USING MODEL CONFIG: self._conf[preprocess][predict_previous] = False\n",
            "WARNING: You are changing diffuser.T from the value this model was trained with. Are you sure you know what you are doing?\n",
            "[2025-07-26 01:54:33,282][inference.model_runners][INFO] - Loading checkpoint.\n",
            "[2025-07-26 01:54:33,501][diffusion][INFO] - Using cached IGSO3.\n",
            "Successful diffuser __init__\n",
            "[2025-07-26 01:54:33,514][__main__][INFO] - Making design outputs/design1_0\n",
            "[2025-07-26 01:54:33,519][inference.model_runners][INFO] - Using contig: ['100']\n",
            "With this beta schedule (linear schedule, beta_0 = 0.04, beta_T = 0.28), alpha_bar_T = 0.00013696050154976547\n",
            "[2025-07-26 01:54:33,573][inference.model_runners][INFO] - Sequence init: ----------------------------------------------------------------------------------------------------\n",
            "/content/RFdiffusion/util_module.py:259: UserWarning: Using torch.cross without specifying the dim arg is deprecated.\n",
            "Please either pass the dim explicitly or simply use torch.linalg.cross.\n",
            "The default value of dim will change to agree with that of linalg.cross in a future release. (Triggered internally at /pytorch/aten/src/ATen/native/Cross.cpp:62.)\n",
            "  CBrotaxis1 = (CBr-CAr).cross(NCr-CAr)\n",
            "[2025-07-26 01:54:49,692][inference.model_runners][INFO] - Timestep 50, input to next step: ----------------------------------------------------------------------------------------------------\n",
            "[2025-07-26 01:55:04,875][inference.model_runners][INFO] - Timestep 49, input to next step: ----------------------------------------------------------------------------------------------------\n",
            "[2025-07-26 01:55:21,333][inference.model_runners][INFO] - Timestep 48, input to next step: ----------------------------------------------------------------------------------------------------\n",
            "[2025-07-26 01:55:36,982][inference.model_runners][INFO] - Timestep 47, input to next step: ----------------------------------------------------------------------------------------------------\n",
            "[2025-07-26 01:55:52,844][inference.model_runners][INFO] - Timestep 46, input to next step: ----------------------------------------------------------------------------------------------------\n",
            "[2025-07-26 01:56:08,202][inference.model_runners][INFO] - Timestep 45, input to next step: ----------------------------------------------------------------------------------------------------\n",
            "[2025-07-26 01:56:24,109][inference.model_runners][INFO] - Timestep 44, input to next step: ----------------------------------------------------------------------------------------------------\n",
            "[2025-07-26 01:56:39,559][inference.model_runners][INFO] - Timestep 43, input to next step: ----------------------------------------------------------------------------------------------------\n",
            "[2025-07-26 01:56:55,245][inference.model_runners][INFO] - Timestep 42, input to next step: ----------------------------------------------------------------------------------------------------\n",
            "[2025-07-26 01:57:10,463][inference.model_runners][INFO] - Timestep 41, input to next step: ----------------------------------------------------------------------------------------------------\n",
            "[2025-07-26 01:57:26,016][inference.model_runners][INFO] - Timestep 40, input to next step: ----------------------------------------------------------------------------------------------------\n",
            "[2025-07-26 01:57:42,343][inference.model_runners][INFO] - Timestep 39, input to next step: ----------------------------------------------------------------------------------------------------\n",
            "[2025-07-26 01:57:58,099][inference.model_runners][INFO] - Timestep 38, input to next step: ----------------------------------------------------------------------------------------------------\n",
            "[2025-07-26 01:58:13,788][inference.model_runners][INFO] - Timestep 37, input to next step: ----------------------------------------------------------------------------------------------------\n",
            "[2025-07-26 01:58:29,415][inference.model_runners][INFO] - Timestep 36, input to next step: ----------------------------------------------------------------------------------------------------\n",
            "[2025-07-26 01:58:45,850][inference.model_runners][INFO] - Timestep 35, input to next step: ----------------------------------------------------------------------------------------------------\n",
            "[2025-07-26 01:59:01,710][inference.model_runners][INFO] - Timestep 34, input to next step: ----------------------------------------------------------------------------------------------------\n",
            "[2025-07-26 01:59:17,905][inference.model_runners][INFO] - Timestep 33, input to next step: ----------------------------------------------------------------------------------------------------\n",
            "[2025-07-26 01:59:33,564][inference.model_runners][INFO] - Timestep 32, input to next step: ----------------------------------------------------------------------------------------------------\n",
            "[2025-07-26 01:59:50,107][inference.model_runners][INFO] - Timestep 31, input to next step: ----------------------------------------------------------------------------------------------------\n",
            "[2025-07-26 02:00:06,053][inference.model_runners][INFO] - Timestep 30, input to next step: ----------------------------------------------------------------------------------------------------\n",
            "[2025-07-26 02:00:21,889][inference.model_runners][INFO] - Timestep 29, input to next step: ----------------------------------------------------------------------------------------------------\n",
            "[2025-07-26 02:00:37,625][inference.model_runners][INFO] - Timestep 28, input to next step: ----------------------------------------------------------------------------------------------------\n",
            "[2025-07-26 02:00:54,043][inference.model_runners][INFO] - Timestep 27, input to next step: ----------------------------------------------------------------------------------------------------\n",
            "[2025-07-26 02:01:09,824][inference.model_runners][INFO] - Timestep 26, input to next step: ----------------------------------------------------------------------------------------------------\n",
            "[2025-07-26 02:01:25,564][inference.model_runners][INFO] - Timestep 25, input to next step: ----------------------------------------------------------------------------------------------------\n",
            "[2025-07-26 02:01:40,850][inference.model_runners][INFO] - Timestep 24, input to next step: ----------------------------------------------------------------------------------------------------\n",
            "[2025-07-26 02:01:56,887][inference.model_runners][INFO] - Timestep 23, input to next step: ----------------------------------------------------------------------------------------------------\n",
            "[2025-07-26 02:02:12,326][inference.model_runners][INFO] - Timestep 22, input to next step: ----------------------------------------------------------------------------------------------------\n",
            "[2025-07-26 02:02:27,845][inference.model_runners][INFO] - Timestep 21, input to next step: ----------------------------------------------------------------------------------------------------\n",
            "[2025-07-26 02:02:43,130][inference.model_runners][INFO] - Timestep 20, input to next step: ----------------------------------------------------------------------------------------------------\n",
            "[2025-07-26 02:02:58,707][inference.model_runners][INFO] - Timestep 19, input to next step: ----------------------------------------------------------------------------------------------------\n",
            "[2025-07-26 02:03:14,671][inference.model_runners][INFO] - Timestep 18, input to next step: ----------------------------------------------------------------------------------------------------\n",
            "[2025-07-26 02:03:29,844][inference.model_runners][INFO] - Timestep 17, input to next step: ----------------------------------------------------------------------------------------------------\n",
            "[2025-07-26 02:03:45,684][inference.model_runners][INFO] - Timestep 16, input to next step: ----------------------------------------------------------------------------------------------------\n",
            "[2025-07-26 02:04:01,357][inference.model_runners][INFO] - Timestep 15, input to next step: ----------------------------------------------------------------------------------------------------\n",
            "[2025-07-26 02:04:17,690][inference.model_runners][INFO] - Timestep 14, input to next step: ----------------------------------------------------------------------------------------------------\n",
            "[2025-07-26 02:04:33,478][inference.model_runners][INFO] - Timestep 13, input to next step: ----------------------------------------------------------------------------------------------------\n",
            "[2025-07-26 02:04:49,142][inference.model_runners][INFO] - Timestep 12, input to next step: ----------------------------------------------------------------------------------------------------\n",
            "[2025-07-26 02:05:04,874][inference.model_runners][INFO] - Timestep 11, input to next step: ----------------------------------------------------------------------------------------------------\n",
            "[2025-07-26 02:05:21,579][inference.model_runners][INFO] - Timestep 10, input to next step: ----------------------------------------------------------------------------------------------------\n",
            "[2025-07-26 02:05:36,879][inference.model_runners][INFO] - Timestep 9, input to next step: ----------------------------------------------------------------------------------------------------\n",
            "[2025-07-26 02:05:52,843][inference.model_runners][INFO] - Timestep 8, input to next step: ----------------------------------------------------------------------------------------------------\n",
            "[2025-07-26 02:06:08,102][inference.model_runners][INFO] - Timestep 7, input to next step: ----------------------------------------------------------------------------------------------------\n",
            "[2025-07-26 02:06:24,412][inference.model_runners][INFO] - Timestep 6, input to next step: ----------------------------------------------------------------------------------------------------\n",
            "[2025-07-26 02:06:40,376][inference.model_runners][INFO] - Timestep 5, input to next step: ----------------------------------------------------------------------------------------------------\n",
            "[2025-07-26 02:06:55,887][inference.model_runners][INFO] - Timestep 4, input to next step: ----------------------------------------------------------------------------------------------------\n",
            "[2025-07-26 02:07:11,629][inference.model_runners][INFO] - Timestep 3, input to next step: ----------------------------------------------------------------------------------------------------\n",
            "[2025-07-26 02:07:27,902][inference.model_runners][INFO] - Timestep 2, input to next step: ----------------------------------------------------------------------------------------------------\n",
            "[2025-07-26 02:07:45,126][__main__][INFO] - Finished design in 13.19 minutes\n",
            "✅  Backbones saved under outputs/\n"
          ]
        }
      ]
    },
    {
      "cell_type": "code",
      "source": [
        "# 👀 Preview first backbone in 3‑D\n",
        "import glob, py3Dmol, IPython, pathlib, json\n",
        "pdb_files = glob.glob(f\"outputs/{name}_0.pdb\")\n",
        "if pdb_files:\n",
        "    view = py3Dmol.view(js='https://3dmol.org/build/3Dmol.js')\n",
        "    view.addModel(open(pdb_files[0]).read(),'pdb')\n",
        "    view.setStyle({'cartoon':{'color':'spectrum'}}); view.zoomTo(); view.show()\n",
        "else:\n",
        "    print(\"No PDB found.\")\n"
      ],
      "metadata": {
        "colab": {
          "base_uri": "https://localhost:8080/",
          "height": 497
        },
        "id": "Y3-qqIm6XphG",
        "outputId": "1d151339-7013-4b67-9a96-23fe9600cacf"
      },
      "execution_count": 25,
      "outputs": [
        {
          "output_type": "display_data",
          "data": {
            "application/3dmoljs_load.v0": "<div id=\"3dmolviewer_1753495685193856\"  style=\"position: relative; width: 640px; height: 480px;\">\n        <p id=\"3dmolwarning_1753495685193856\" style=\"background-color:#ffcccc;color:black\">3Dmol.js failed to load for some reason.  Please check your browser console for error messages.<br></p>\n        </div>\n<script>\n\nvar loadScriptAsync = function(uri){\n  return new Promise((resolve, reject) => {\n    //this is to ignore the existence of requirejs amd\n    var savedexports, savedmodule;\n    if (typeof exports !== 'undefined') savedexports = exports;\n    else exports = {}\n    if (typeof module !== 'undefined') savedmodule = module;\n    else module = {}\n\n    var tag = document.createElement('script');\n    tag.src = uri;\n    tag.async = true;\n    tag.onload = () => {\n        exports = savedexports;\n        module = savedmodule;\n        resolve();\n    };\n  var firstScriptTag = document.getElementsByTagName('script')[0];\n  firstScriptTag.parentNode.insertBefore(tag, firstScriptTag);\n});\n};\n\nif(typeof $3Dmolpromise === 'undefined') {\n$3Dmolpromise = null;\n  $3Dmolpromise = loadScriptAsync('https://3dmol.org/build/3Dmol.js');\n}\n\nvar viewer_1753495685193856 = null;\nvar warn = document.getElementById(\"3dmolwarning_1753495685193856\");\nif(warn) {\n    warn.parentNode.removeChild(warn);\n}\n$3Dmolpromise.then(function() {\nviewer_1753495685193856 = $3Dmol.createViewer(document.getElementById(\"3dmolviewer_1753495685193856\"),{backgroundColor:\"white\"});\nviewer_1753495685193856.zoomTo();\n\tviewer_1753495685193856.addModel(\"ATOM      1  N   GLY A   1     -11.946   6.978 -21.060  1.00  0.92\\nATOM      2  CA  GLY A   1     -10.846   7.469 -20.239  1.00  0.92\\nATOM      3  C   GLY A   1     -11.082   7.166 -18.764  1.00  0.92\\nATOM      4  O   GLY A   1     -10.158   6.790 -18.043  1.00  0.92\\nATOM      5  N   GLY A   2     -12.247   7.299 -18.372  1.00  0.93\\nATOM      6  CA  GLY A   2     -12.566   7.006 -16.980  1.00  0.93\\nATOM      7  C   GLY A   2     -12.425   5.519 -16.684  1.00  0.93\\nATOM      8  O   GLY A   2     -11.931   5.131 -15.625  1.00  0.93\\nATOM      9  N   GLY A   3     -12.852   4.709 -17.575  1.00  0.94\\nATOM     10  CA  GLY A   3     -12.702   3.272 -17.376  1.00  0.94\\nATOM     11  C   GLY A   3     -11.234   2.881 -17.273  1.00  0.94\\nATOM     12  O   GLY A   3     -10.858   2.056 -16.440  1.00  0.94\\nATOM     13  N   GLY A   4     -10.420   3.445 -18.073  1.00  0.94\\nATOM     14  CA  GLY A   4      -8.993   3.147 -18.031  1.00  0.94\\nATOM     15  C   GLY A   4      -8.373   3.605 -16.717  1.00  0.94\\nATOM     16  O   GLY A   4      -7.538   2.910 -16.138  1.00  0.94\\nATOM     17  N   GLY A   5      -8.764   4.737 -16.245  1.00  0.94\\nATOM     18  CA  GLY A   5      -8.248   5.219 -14.969  1.00  0.94\\nATOM     19  C   GLY A   5      -8.660   4.300 -13.826  1.00  0.94\\nATOM     20  O   GLY A   5      -7.862   4.006 -12.936  1.00  0.94\\nATOM     21  N   GLY A   6      -9.884   3.866 -13.846  1.00  0.95\\nATOM     22  CA  GLY A   6     -10.349   2.954 -12.808  1.00  0.95\\nATOM     23  C   GLY A   6      -9.586   1.636 -12.850  1.00  0.95\\nATOM     24  O   GLY A   6      -9.218   1.088 -11.811  1.00  0.95\\nATOM     25  N   GLY A   7      -9.361   1.127 -14.030  1.00  0.95\\nATOM     26  CA  GLY A   7      -8.595  -0.108 -14.150  1.00  0.95\\nATOM     27  C   GLY A   7      -7.181   0.066 -13.611  1.00  0.95\\nATOM     28  O   GLY A   7      -6.659  -0.806 -12.916  1.00  0.95\\nATOM     29  N   GLY A   8      -6.585   1.183 -13.891  1.00  0.95\\nATOM     30  CA  GLY A   8      -5.236   1.439 -13.401  1.00  0.95\\nATOM     31  C   GLY A   8      -5.215   1.553 -11.882  1.00  0.95\\nATOM     32  O   GLY A   8      -4.320   1.023 -11.223  1.00  0.95\\nATOM     33  N   GLY A   9      -6.189   2.209 -11.325  1.00  0.95\\nATOM     34  CA  GLY A   9      -6.264   2.338  -9.875  1.00  0.95\\nATOM     35  C   GLY A   9      -6.490   0.985  -9.213  1.00  0.95\\nATOM     36  O   GLY A   9      -5.888   0.677  -8.185  1.00  0.95\\nATOM     37  N   GLY A  10      -7.330   0.176  -9.808  1.00  0.96\\nATOM     38  CA  GLY A  10      -7.579  -1.155  -9.266  1.00  0.96\\nATOM     39  C   GLY A  10      -6.317  -2.009  -9.303  1.00  0.96\\nATOM     40  O   GLY A  10      -6.000  -2.706  -8.339  1.00  0.96\\nATOM     41  N   GLY A  11      -5.572  -1.896 -10.367  1.00  0.95\\nATOM     42  CA  GLY A  11      -4.344  -2.673 -10.489  1.00  0.95\\nATOM     43  C   GLY A  11      -3.302  -2.219  -9.475  1.00  0.95\\nATOM     44  O   GLY A  11      -2.626  -3.040  -8.855  1.00  0.95\\nATOM     45  N   GLY A  12      -3.191  -0.947  -9.265  1.00  0.95\\nATOM     46  CA  GLY A  12      -2.219  -0.427  -8.311  1.00  0.95\\nATOM     47  C   GLY A  12      -2.574  -0.832  -6.886  1.00  0.95\\nATOM     48  O   GLY A  12      -1.705  -1.225  -6.108  1.00  0.95\\nATOM     49  N   GLY A  13      -3.815  -0.745  -6.540  1.00  0.95\\nATOM     50  CA  GLY A  13      -4.240  -1.122  -5.197  1.00  0.95\\nATOM     51  C   GLY A  13      -4.037  -2.612  -4.954  1.00  0.95\\nATOM     52  O   GLY A  13      -3.592  -3.021  -3.882  1.00  0.95\\nATOM     53  N   GLY A  14      -4.302  -3.412  -5.952  1.00  0.96\\nATOM     54  CA  GLY A  14      -4.101  -4.848  -5.803  1.00  0.96\\nATOM     55  C   GLY A  14      -2.623  -5.185  -5.657  1.00  0.96\\nATOM     56  O   GLY A  14      -2.245  -6.019  -4.834  1.00  0.96\\nATOM     57  N   GLY A  15      -1.790  -4.509  -6.408  1.00  0.95\\nATOM     58  CA  GLY A  15      -0.355  -4.747  -6.318  1.00  0.95\\nATOM     59  C   GLY A  15       0.180  -4.375  -4.941  1.00  0.95\\nATOM     60  O   GLY A  15       0.994  -5.097  -4.364  1.00  0.95\\nATOM     61  N   GLY A  16      -0.285  -3.290  -4.403  1.00  0.95\\nATOM     62  CA  GLY A  16       0.160  -2.862  -3.082  1.00  0.95\\nATOM     63  C   GLY A  16      -0.310  -3.829  -2.003  1.00  0.95\\nATOM     64  O   GLY A  16       0.447  -4.180  -1.098  1.00  0.95\\nATOM     65  N   GLY A  17      -1.528  -4.291  -2.112  1.00  0.95\\nATOM     66  CA  GLY A  17      -2.055  -5.241  -1.141  1.00  0.95\\nATOM     67  C   GLY A  17      -1.300  -6.563  -1.198  1.00  0.95\\nATOM     68  O   GLY A  17      -0.946  -7.132  -0.165  1.00  0.95\\nATOM     69  N   GLY A  18      -1.007  -7.017  -2.388  1.00  0.96\\nATOM     70  CA  GLY A  18      -0.271  -8.267  -2.542  1.00  0.96\\nATOM     71  C   GLY A  18       1.140  -8.148  -1.980  1.00  0.96\\nATOM     72  O   GLY A  18       1.629  -9.056  -1.308  1.00  0.96\\nATOM     73  N   GLY A  19       1.771  -7.041  -2.209  1.00  0.95\\nATOM     74  CA  GLY A  19       3.115  -6.825  -1.688  1.00  0.95\\nATOM     75  C   GLY A  19       3.119  -6.807  -0.165  1.00  0.95\\nATOM     76  O   GLY A  19       3.989  -7.404   0.470  1.00  0.95\\nATOM     77  N   GLY A  20       2.163  -6.138   0.404  1.00  0.95\\nATOM     78  CA  GLY A  20       2.081  -6.070   1.858  1.00  0.95\\nATOM     79  C   GLY A  20       1.824  -7.445   2.461  1.00  0.95\\nATOM     80  O   GLY A  20       2.450  -7.827   3.449  1.00  0.95\\nATOM     81  N   GLY A  21       0.976  -8.206   1.817  1.00  0.96\\nATOM     82  CA  GLY A  21       0.660  -9.537   2.321  1.00  0.96\\nATOM     83  C   GLY A  21       1.870 -10.459   2.240  1.00  0.96\\nATOM     84  O   GLY A  21       2.165 -11.196   3.181  1.00  0.96\\nATOM     85  N   GLY A  22       2.577 -10.408   1.155  1.00  0.96\\nATOM     86  CA  GLY A  22       3.769 -11.230   0.988  1.00  0.96\\nATOM     87  C   GLY A  22       4.828 -10.882   2.026  1.00  0.96\\nATOM     88  O   GLY A  22       5.454 -11.768   2.609  1.00  0.96\\nATOM     89  N   GLY A  23       4.995  -9.624   2.274  1.00  0.96\\nATOM     90  CA  GLY A  23       5.977  -9.191   3.261  1.00  0.96\\nATOM     91  C   GLY A  23       5.590  -9.649   4.661  1.00  0.96\\nATOM     92  O   GLY A  23       6.438 -10.094   5.435  1.00  0.96\\nATOM     93  N   GLY A  24       4.329  -9.574   4.942  1.00  0.95\\nATOM     94  CA  GLY A  24       3.852 -10.015   6.247  1.00  0.95\\nATOM     95  C   GLY A  24       4.013 -11.521   6.413  1.00  0.95\\nATOM     96  O   GLY A  24       4.452 -11.997   7.460  1.00  0.95\\nATOM     97  N   GLY A  25       3.722 -12.228   5.352  1.00  0.96\\nATOM     98  CA  GLY A  25       3.844 -13.680   5.404  1.00  0.96\\nATOM     99  C   GLY A  25       5.298 -14.104   5.569  1.00  0.96\\nATOM    100  O   GLY A  25       5.604 -15.018   6.335  1.00  0.96\\nATOM    101  N   GLY A  26       6.160 -13.408   4.990  1.00  0.97\\nATOM    102  CA  GLY A  26       7.583 -13.716   5.074  1.00  0.97\\nATOM    103  C   GLY A  26       8.178 -13.221   6.386  1.00  0.97\\nATOM    104  O   GLY A  26       9.221 -13.704   6.827  1.00  0.97\\nATOM    105  N   GLY A  27       7.437 -12.425   7.062  1.00  0.96\\nATOM    106  CA  GLY A  27       7.874 -11.992   8.384  1.00  0.96\\nATOM    107  C   GLY A  27       8.882 -10.854   8.286  1.00  0.96\\nATOM    108  O   GLY A  27       9.665 -10.625   9.207  1.00  0.96\\nATOM    109  N   GLY A  28       8.772  -9.983   7.398  1.00  0.96\\nATOM    110  CA  GLY A  28       9.626  -8.806   7.294  1.00  0.96\\nATOM    111  C   GLY A  28       9.314  -7.799   8.394  1.00  0.96\\nATOM    112  O   GLY A  28       8.154  -7.602   8.757  1.00  0.96\\nATOM    113  N   GLY A  29      10.295  -7.217   8.992  1.00  0.94\\nATOM    114  CA  GLY A  29      10.065  -6.194  10.005  1.00  0.94\\nATOM    115  C   GLY A  29       9.261  -5.030   9.440  1.00  0.94\\nATOM    116  O   GLY A  29       9.461  -4.622   8.295  1.00  0.94\\nATOM    117  N   GLY A  30       8.625  -4.310  10.333  1.00  0.93\\nATOM    118  CA  GLY A  30       7.787  -3.194   9.912  1.00  0.93\\nATOM    119  C   GLY A  30       8.611  -2.116   9.220  1.00  0.93\\nATOM    120  O   GLY A  30       8.174  -1.525   8.233  1.00  0.93\\nATOM    121  N   GLY A  31       9.766  -1.851   9.653  1.00  0.93\\nATOM    122  CA  GLY A  31      10.628  -0.857   9.024  1.00  0.93\\nATOM    123  C   GLY A  31      11.017  -1.278   7.613  1.00  0.93\\nATOM    124  O   GLY A  31      11.005  -0.467   6.687  1.00  0.93\\nATOM    125  N   GLY A  32      11.341  -2.510   7.433  1.00  0.95\\nATOM    126  CA  GLY A  32      11.675  -3.015   6.107  1.00  0.95\\nATOM    127  C   GLY A  32      10.457  -3.012   5.193  1.00  0.95\\nATOM    128  O   GLY A  32      10.558  -2.690   4.009  1.00  0.95\\nATOM    129  N   GLY A  33       9.326  -3.321   5.742  1.00  0.95\\nATOM    130  CA  GLY A  33       8.097  -3.299   4.959  1.00  0.95\\nATOM    131  C   GLY A  33       7.772  -1.888   4.483  1.00  0.95\\nATOM    132  O   GLY A  33       7.369  -1.687   3.338  1.00  0.95\\nATOM    133  N   GLY A  34       7.935  -0.930   5.358  1.00  0.94\\nATOM    134  CA  GLY A  34       7.687   0.456   4.981  1.00  0.94\\nATOM    135  C   GLY A  34       8.650   0.911   3.891  1.00  0.94\\nATOM    136  O   GLY A  34       8.251   1.579   2.937  1.00  0.94\\nATOM    137  N   GLY A  35       9.887   0.495   3.988  1.00  0.94\\nATOM    138  CA  GLY A  35      10.862   0.859   2.967  1.00  0.94\\nATOM    139  C   GLY A  35      10.513   0.231   1.624  1.00  0.94\\nATOM    140  O   GLY A  35      10.598   0.882   0.582  1.00  0.94\\nATOM    141  N   GLY A  36      10.123  -1.011   1.626  1.00  0.95\\nATOM    142  CA  GLY A  36       9.739  -1.686   0.392  1.00  0.95\\nATOM    143  C   GLY A  36       8.523  -1.024  -0.242  1.00  0.95\\nATOM    144  O   GLY A  36       8.463  -0.849  -1.459  1.00  0.95\\nATOM    145  N   GLY A  37       7.581  -0.638   0.562  1.00  0.94\\nATOM    146  CA  GLY A  37       6.398   0.040   0.046  1.00  0.94\\nATOM    147  C   GLY A  37       6.757   1.392  -0.557  1.00  0.94\\nATOM    148  O   GLY A  37       6.235   1.773  -1.604  1.00  0.94\\nATOM    149  N   GLY A  38       7.669   2.087   0.064  1.00  0.93\\nATOM    150  CA  GLY A  38       8.122   3.367  -0.467  1.00  0.93\\nATOM    151  C   GLY A  38       8.779   3.196  -1.831  1.00  0.93\\nATOM    152  O   GLY A  38       8.532   3.975  -2.751  1.00  0.93\\nATOM    153  N   GLY A  39       9.540   2.150  -1.971  1.00  0.94\\nATOM    154  CA  GLY A  39      10.181   1.870  -3.250  1.00  0.94\\nATOM    155  C   GLY A  39       9.152   1.510  -4.314  1.00  0.94\\nATOM    156  O   GLY A  39       9.245   1.956  -5.458  1.00  0.94\\nATOM    157  N   GLY A  40       8.159   0.798  -3.935  1.00  0.94\\nATOM    158  CA  GLY A  40       7.112   0.387  -4.862  1.00  0.94\\nATOM    159  C   GLY A  40       6.287   1.581  -5.325  1.00  0.94\\nATOM    160  O   GLY A  40       5.877   1.653  -6.484  1.00  0.94\\nATOM    161  N   GLY A  41       6.090   2.516  -4.474  1.00  0.94\\nATOM    162  CA  GLY A  41       5.316   3.708  -4.797  1.00  0.94\\nATOM    163  C   GLY A  41       5.984   4.516  -5.902  1.00  0.94\\nATOM    164  O   GLY A  41       5.310   5.127  -6.731  1.00  0.94\\nATOM    165  N   GLY A  42       7.249   4.360  -6.045  1.00  0.93\\nATOM    166  CA  GLY A  42       7.994   5.079  -7.071  1.00  0.93\\nATOM    167  C   GLY A  42       7.665   4.553  -8.462  1.00  0.93\\nATOM    168  O   GLY A  42       7.699   5.297  -9.442  1.00  0.93\\nATOM    169  N   GLY A  43       7.025   3.463  -8.513  1.00  0.93\\nATOM    170  CA  GLY A  43       6.673   2.847  -9.787  1.00  0.93\\nATOM    171  C   GLY A  43       5.219   3.120 -10.148  1.00  0.93\\nATOM    172  O   GLY A  43       4.815   2.960 -11.300  1.00  0.93\\nATOM    173  N   GLY A  44       4.526   3.731  -9.313  1.00  0.94\\nATOM    174  CA  GLY A  44       3.118   4.015  -9.560  1.00  0.94\\nATOM    175  C   GLY A  44       2.947   5.301 -10.359  1.00  0.94\\nATOM    176  O   GLY A  44       3.887   6.082 -10.505  1.00  0.94\\nATOM    177  N   GLY A  45       1.769   5.521 -10.894  1.00  0.93\\nATOM    178  CA  GLY A  45       1.518   6.776 -11.591  1.00  0.93\\nATOM    179  C   GLY A  45       1.930   7.971 -10.741  1.00  0.93\\nATOM    180  O   GLY A  45       1.799   7.948  -9.517  1.00  0.93\\nATOM    181  N   GLY A  46       2.359   8.985 -11.454  1.00  0.94\\nATOM    182  CA  GLY A  46       2.924  10.162 -10.806  1.00  0.94\\nATOM    183  C   GLY A  46       1.953  10.751  -9.791  1.00  0.94\\nATOM    184  O   GLY A  46       2.345  11.118  -8.683  1.00  0.94\\nATOM    185  N   GLY A  47       0.760  10.875 -10.067  1.00  0.93\\nATOM    186  CA  GLY A  47      -0.214  11.475  -9.164  1.00  0.93\\nATOM    187  C   GLY A  47      -0.410  10.622  -7.918  1.00  0.93\\nATOM    188  O   GLY A  47      -0.455  11.138  -6.801  1.00  0.93\\nATOM    189  N   GLY A  48      -0.489   9.377  -8.096  1.00  0.94\\nATOM    190  CA  GLY A  48      -0.668   8.474  -6.965  1.00  0.94\\nATOM    191  C   GLY A  48       0.624   8.323  -6.172  1.00  0.94\\nATOM    192  O   GLY A  48       0.606   8.259  -4.943  1.00  0.94\\nATOM    193  N   GLY A  49       1.713   8.295  -6.888  1.00  0.95\\nATOM    194  CA  GLY A  49       3.006   8.181  -6.224  1.00  0.95\\nATOM    195  C   GLY A  49       3.256   9.366  -5.300  1.00  0.95\\nATOM    196  O   GLY A  49       3.718   9.198  -4.171  1.00  0.95\\nATOM    197  N   GLY A  50       2.934  10.524  -5.760  1.00  0.96\\nATOM    198  CA  GLY A  50       3.187  11.727  -4.977  1.00  0.96\\nATOM    199  C   GLY A  50       2.382  11.723  -3.684  1.00  0.96\\nATOM    200  O   GLY A  50       2.904  12.038  -2.615  1.00  0.96\\nATOM    201  N   GLY A  51       1.178  11.317  -3.743  1.00  0.94\\nATOM    202  CA  GLY A  51       0.323  11.326  -2.562  1.00  0.94\\nATOM    203  C   GLY A  51       0.726  10.230  -1.583  1.00  0.94\\nATOM    204  O   GLY A  51       0.819  10.464  -0.378  1.00  0.94\\nATOM    205  N   GLY A  52       0.935   9.056  -2.058  1.00  0.94\\nATOM    206  CA  GLY A  52       1.257   7.932  -1.187  1.00  0.94\\nATOM    207  C   GLY A  52       2.662   8.066  -0.613  1.00  0.94\\nATOM    208  O   GLY A  52       2.894   7.770   0.559  1.00  0.94\\nATOM    209  N   GLY A  53       3.571   8.548  -1.384  1.00  0.95\\nATOM    210  CA  GLY A  53       4.931   8.741  -0.897  1.00  0.95\\nATOM    211  C   GLY A  53       4.989   9.837   0.159  1.00  0.95\\nATOM    212  O   GLY A  53       5.678   9.703   1.170  1.00  0.95\\nATOM    213  N   GLY A  54       4.242  10.885  -0.052  1.00  0.96\\nATOM    214  CA  GLY A  54       4.199  11.953   0.940  1.00  0.96\\nATOM    215  C   GLY A  54       3.628  11.455   2.261  1.00  0.96\\nATOM    216  O   GLY A  54       4.139  11.783   3.332  1.00  0.96\\nATOM    217  N   GLY A  55       2.627  10.649   2.191  1.00  0.95\\nATOM    218  CA  GLY A  55       2.031  10.099   3.403  1.00  0.95\\nATOM    219  C   GLY A  55       3.005   9.176   4.125  1.00  0.95\\nATOM    220  O   GLY A  55       3.132   9.226   5.348  1.00  0.95\\nATOM    221  N   GLY A  56       3.673   8.350   3.390  1.00  0.94\\nATOM    222  CA  GLY A  56       4.625   7.427   3.996  1.00  0.94\\nATOM    223  C   GLY A  56       5.823   8.171   4.571  1.00  0.94\\nATOM    224  O   GLY A  56       6.295   7.856   5.664  1.00  0.94\\nATOM    225  N   GLY A  57       6.216   9.225   3.898  1.00  0.94\\nATOM    226  CA  GLY A  57       7.333  10.020   4.393  1.00  0.94\\nATOM    227  C   GLY A  57       6.953  10.776   5.660  1.00  0.94\\nATOM    228  O   GLY A  57       7.730  10.842   6.612  1.00  0.94\\nATOM    229  N   GLY A  58       5.773  11.315   5.682  1.00  0.95\\nATOM    230  CA  GLY A  58       5.309  12.021   6.870  1.00  0.95\\nATOM    231  C   GLY A  58       5.230  11.086   8.071  1.00  0.95\\nATOM    232  O   GLY A  58       5.625  11.449   9.179  1.00  0.95\\nATOM    233  N   GLY A  59       4.778   9.904   7.845  1.00  0.94\\nATOM    234  CA  GLY A  59       4.681   8.931   8.926  1.00  0.94\\nATOM    235  C   GLY A  59       6.060   8.549   9.449  1.00  0.94\\nATOM    236  O   GLY A  59       6.273   8.460  10.658  1.00  0.94\\nATOM    237  N   GLY A  60       6.970   8.344   8.561  1.00  0.94\\nATOM    238  CA  GLY A  60       8.323   7.979   8.963  1.00  0.94\\nATOM    239  C   GLY A  60       8.984   9.100   9.754  1.00  0.94\\nATOM    240  O   GLY A  60       9.622   8.857  10.779  1.00  0.94\\nATOM    241  N   GLY A  61       8.753  10.302   9.333  1.00  0.95\\nATOM    242  CA  GLY A  61       9.333  11.451  10.020  1.00  0.95\\nATOM    243  C   GLY A  61       8.772  11.591  11.429  1.00  0.95\\nATOM    244  O   GLY A  61       9.511  11.846  12.379  1.00  0.95\\nATOM    245  N   GLY A  62       7.525  11.323  11.580  1.00  0.95\\nATOM    246  CA  GLY A  62       6.887  11.429  12.886  1.00  0.95\\nATOM    247  C   GLY A  62       7.358  10.322  13.821  1.00  0.95\\nATOM    248  O   GLY A  62       7.591  10.555  15.007  1.00  0.95\\nATOM    249  N   GLY A  63       7.591   9.193  13.300  1.00  0.95\\nATOM    250  CA  GLY A  63       7.970   8.042  14.112  1.00  0.95\\nATOM    251  C   GLY A  63       9.435   8.116  14.522  1.00  0.95\\nATOM    252  O   GLY A  63       9.823   7.599  15.569  1.00  0.95\\nATOM    253  N   GLY A  64      10.194   8.882  13.858  1.00  0.93\\nATOM    254  CA  GLY A  64      11.626   8.969  14.115  1.00  0.93\\nATOM    255  C   GLY A  64      11.904   9.583  15.481  1.00  0.93\\nATOM    256  O   GLY A  64      12.833   9.176  16.179  1.00  0.93\\nATOM    257  N   GLY A  65      11.019  10.220  16.050  1.00  0.95\\nATOM    258  CA  GLY A  65      11.232  10.863  17.341  1.00  0.95\\nATOM    259  C   GLY A  65      10.723   9.991  18.481  1.00  0.95\\nATOM    260  O   GLY A  65      11.111  10.172  19.636  1.00  0.95\\nATOM    261  N   GLY A  66      10.220   8.897  18.189  1.00  0.96\\nATOM    262  CA  GLY A  66       9.663   8.040  19.230  1.00  0.96\\nATOM    263  C   GLY A  66      10.655   6.961  19.644  1.00  0.96\\nATOM    264  O   GLY A  66      11.563   6.615  18.887  1.00  0.96\\nATOM    265  N   GLY A  67      10.461   6.424  20.795  1.00  0.97\\nATOM    266  CA  GLY A  67      11.264   5.273  21.190  1.00  0.97\\nATOM    267  C   GLY A  67      11.017   4.086  20.267  1.00  0.97\\nATOM    268  O   GLY A  67       9.930   3.938  19.707  1.00  0.97\\nATOM    269  N   GLY A  68      11.932   3.173  20.286  1.00  0.95\\nATOM    270  CA  GLY A  68      11.896   2.048  19.360  1.00  0.95\\nATOM    271  C   GLY A  68      10.634   1.217  19.552  1.00  0.95\\nATOM    272  O   GLY A  68      10.013   0.781  18.582  1.00  0.95\\nATOM    273  N   GLY A  69      10.225   0.955  20.720  1.00  0.96\\nATOM    274  CA  GLY A  69       9.030   0.157  20.969  1.00  0.96\\nATOM    275  C   GLY A  69       7.775   0.886  20.507  1.00  0.96\\nATOM    276  O   GLY A  69       6.892   0.291  19.888  1.00  0.96\\nATOM    277  N   GLY A  70       7.686   2.132  20.790  1.00  0.96\\nATOM    278  CA  GLY A  70       6.546   2.918  20.333  1.00  0.96\\nATOM    279  C   GLY A  70       6.549   3.062  18.817  1.00  0.96\\nATOM    280  O   GLY A  70       5.499   3.008  18.176  1.00  0.96\\nATOM    281  N   GLY A  71       7.710   3.213  18.270  1.00  0.96\\nATOM    282  CA  GLY A  71       7.810   3.302  16.818  1.00  0.96\\nATOM    283  C   GLY A  71       7.329   2.019  16.153  1.00  0.96\\nATOM    284  O   GLY A  71       6.612   2.058  15.153  1.00  0.96\\nATOM    285  N   GLY A  72       7.737   0.901  16.682  1.00  0.95\\nATOM    286  CA  GLY A  72       7.315  -0.377  16.122  1.00  0.95\\nATOM    287  C   GLY A  72       5.801  -0.534  16.187  1.00  0.95\\nATOM    288  O   GLY A  72       5.173  -0.987  15.230  1.00  0.95\\nATOM    289  N   GLY A  73       5.224  -0.173  17.281  1.00  0.96\\nATOM    290  CA  GLY A  73       3.776  -0.276  17.424  1.00  0.96\\nATOM    291  C   GLY A  73       3.059   0.648  16.448  1.00  0.96\\nATOM    292  O   GLY A  73       2.079   0.258  15.814  1.00  0.96\\nATOM    293  N   GLY A  74       3.552   1.851  16.309  1.00  0.96\\nATOM    294  CA  GLY A  74       2.932   2.799  15.392  1.00  0.96\\nATOM    295  C   GLY A  74       3.095   2.352  13.945  1.00  0.96\\nATOM    296  O   GLY A  74       2.169   2.467  13.141  1.00  0.96\\nATOM    297  N   GLY A  75       4.245   1.840  13.615  1.00  0.95\\nATOM    298  CA  GLY A  75       4.477   1.367  12.255  1.00  0.95\\nATOM    299  C   GLY A  75       3.581   0.180  11.924  1.00  0.95\\nATOM    300  O   GLY A  75       3.020   0.099  10.832  1.00  0.95\\nATOM    301  N   GLY A  76       3.424  -0.721  12.851  1.00  0.95\\nATOM    302  CA  GLY A  76       2.545  -1.864  12.632  1.00  0.95\\nATOM    303  C   GLY A  76       1.096  -1.422  12.472  1.00  0.95\\nATOM    304  O   GLY A  76       0.381  -1.911  11.598  1.00  0.95\\nATOM    305  N   GLY A  77       0.662  -0.519  13.300  1.00  0.96\\nATOM    306  CA  GLY A  77      -0.701  -0.015  13.189  1.00  0.96\\nATOM    307  C   GLY A  77      -0.922   0.687  11.856  1.00  0.96\\nATOM    308  O   GLY A  77      -1.966   0.525  11.223  1.00  0.96\\nATOM    309  N   GLY A  78       0.059   1.421  11.425  1.00  0.95\\nATOM    310  CA  GLY A  78      -0.053   2.106  10.143  1.00  0.95\\nATOM    311  C   GLY A  78      -0.143   1.112   8.993  1.00  0.95\\nATOM    312  O   GLY A  78      -0.933   1.289   8.066  1.00  0.95\\nATOM    313  N   GLY A  79       0.690   0.098   9.035  1.00  0.94\\nATOM    314  CA  GLY A  79       0.653  -0.916   7.988  1.00  0.94\\nATOM    315  C   GLY A  79      -0.698  -1.618   7.949  1.00  0.94\\nATOM    316  O   GLY A  79      -1.252  -1.861   6.877  1.00  0.94\\nATOM    317  N   GLY A  80      -1.254  -1.866   9.119  1.00  0.95\\nATOM    318  CA  GLY A  80      -2.572  -2.489   9.168  1.00  0.95\\nATOM    319  C   GLY A  80      -3.641  -1.562   8.605  1.00  0.95\\nATOM    320  O   GLY A  80      -4.516  -1.992   7.854  1.00  0.95\\nATOM    321  N   GLY A  81      -3.560  -0.305   8.942  1.00  0.95\\nATOM    322  CA  GLY A  81      -4.516   0.663   8.416  1.00  0.95\\nATOM    323  C   GLY A  81      -4.390   0.795   6.904  1.00  0.95\\nATOM    324  O   GLY A  81      -5.392   0.843   6.190  1.00  0.95\\nATOM    325  N   GLY A  82      -3.176   0.831   6.433  1.00  0.94\\nATOM    326  CA  GLY A  82      -2.952   0.936   4.996  1.00  0.94\\nATOM    327  C   GLY A  82      -3.489  -0.287   4.264  1.00  0.94\\nATOM    328  O   GLY A  82      -4.096  -0.169   3.200  1.00  0.94\\nATOM    329  N   GLY A  83      -3.326  -1.444   4.873  1.00  0.95\\nATOM    330  CA  GLY A  83      -3.834  -2.666   4.261  1.00  0.95\\nATOM    331  C   GLY A  83      -5.356  -2.663   4.206  1.00  0.95\\nATOM    332  O   GLY A  83      -5.950  -3.025   3.190  1.00  0.95\\nATOM    333  N   GLY A  84      -5.981  -2.184   5.245  1.00  0.97\\nATOM    334  CA  GLY A  84      -7.438  -2.122   5.277  1.00  0.97\\nATOM    335  C   GLY A  84      -7.967  -1.092   4.286  1.00  0.97\\nATOM    336  O   GLY A  84      -8.940  -1.344   3.576  1.00  0.97\\nATOM    337  N   GLY A  85      -7.307   0.019   4.193  1.00  0.96\\nATOM    338  CA  GLY A  85      -7.735   1.064   3.271  1.00  0.96\\nATOM    339  C   GLY A  85      -7.579   0.618   1.823  1.00  0.96\\nATOM    340  O   GLY A  85      -8.453   0.862   0.991  1.00  0.96\\nATOM    341  N   GLY A  86      -6.488  -0.008   1.523  1.00  0.96\\nATOM    342  CA  GLY A  86      -6.263  -0.491   0.166  1.00  0.96\\nATOM    343  C   GLY A  86      -7.292  -1.544  -0.222  1.00  0.96\\nATOM    344  O   GLY A  86      -7.802  -1.545  -1.342  1.00  0.96\\nATOM    345  N   GLY A  87      -7.645  -2.373   0.724  1.00  0.97\\nATOM    346  CA  GLY A  87      -8.657  -3.387   0.453  1.00  0.97\\nATOM    347  C   GLY A  87     -10.015  -2.752   0.185  1.00  0.97\\nATOM    348  O   GLY A  87     -10.725  -3.147  -0.740  1.00  0.97\\nATOM    349  N   GLY A  88     -10.354  -1.767   0.966  1.00  0.98\\nATOM    350  CA  GLY A  88     -11.622  -1.075   0.770  1.00  0.98\\nATOM    351  C   GLY A  88     -11.641  -0.326  -0.557  1.00  0.98\\nATOM    352  O   GLY A  88     -12.635  -0.354  -1.282  1.00  0.98\\nATOM    353  N   GLY A  89     -10.533   0.279  -0.882  1.00  0.96\\nATOM    354  CA  GLY A  89     -10.444   1.009  -2.141  1.00  0.96\\nATOM    355  C   GLY A  89     -10.551   0.067  -3.333  1.00  0.96\\nATOM    356  O   GLY A  89     -11.209   0.378  -4.326  1.00  0.96\\nATOM    357  N   GLY A  90      -9.966  -1.088  -3.197  1.00  0.97\\nATOM    358  CA  GLY A  90     -10.056  -2.075  -4.266  1.00  0.97\\nATOM    359  C   GLY A  90     -11.492  -2.545  -4.462  1.00  0.97\\nATOM    360  O   GLY A  90     -11.973  -2.647  -5.591  1.00  0.97\\nATOM    361  N   GLY A  91     -12.170  -2.754  -3.373  1.00  0.97\\nATOM    362  CA  GLY A  91     -13.558  -3.195  -3.450  1.00  0.97\\nATOM    363  C   GLY A  91     -14.442  -2.124  -4.077  1.00  0.97\\nATOM    364  O   GLY A  91     -15.274  -2.417  -4.935  1.00  0.97\\nATOM    365  N   GLY A  92     -14.199  -0.900  -3.725  1.00  0.97\\nATOM    366  CA  GLY A  92     -14.990   0.193  -4.277  1.00  0.97\\nATOM    367  C   GLY A  92     -14.740   0.354  -5.771  1.00  0.97\\nATOM    368  O   GLY A  92     -15.675   0.538  -6.550  1.00  0.97\\nATOM    369  N   GLY A  93     -13.511   0.248  -6.166  1.00  0.96\\nATOM    370  CA  GLY A  93     -13.179   0.381  -7.579  1.00  0.96\\nATOM    371  C   GLY A  93     -13.761  -0.768  -8.393  1.00  0.96\\nATOM    372  O   GLY A  93     -14.260  -0.566  -9.500  1.00  0.96\\nATOM    373  N   GLY A  94     -13.771  -1.923  -7.809  1.00  0.96\\nATOM    374  CA  GLY A  94     -14.333  -3.077  -8.499  1.00  0.96\\nATOM    375  C   GLY A  94     -15.834  -2.919  -8.704  1.00  0.96\\nATOM    376  O   GLY A  94     -16.357  -3.205  -9.781  1.00  0.96\\nATOM    377  N   GLY A  95     -16.502  -2.456  -7.689  1.00  0.96\\nATOM    378  CA  GLY A  95     -17.939  -2.235  -7.801  1.00  0.96\\nATOM    379  C   GLY A  95     -18.253  -1.180  -8.854  1.00  0.96\\nATOM    380  O   GLY A  95     -19.167  -1.347  -9.661  1.00  0.96\\nATOM    381  N   GLY A  96     -17.387  -0.208  -8.937  1.00  0.96\\nATOM    382  CA  GLY A  96     -17.585   0.848  -9.923  1.00  0.96\\nATOM    383  C   GLY A  96     -17.337   0.334 -11.336  1.00  0.96\\nATOM    384  O   GLY A  96     -18.085   0.650 -12.261  1.00  0.96\\nATOM    385  N   GLY A  97     -16.367  -0.504 -11.463  1.00  0.95\\nATOM    386  CA  GLY A  97     -16.066  -1.061 -12.776  1.00  0.95\\nATOM    387  C   GLY A  97     -17.184  -1.977 -13.256  1.00  0.95\\nATOM    388  O   GLY A  97     -17.563  -1.949 -14.427  1.00  0.95\\nATOM    389  N   GLY A  98     -17.761  -2.647 -12.321  1.00  0.95\\nATOM    390  CA  GLY A  98     -18.842  -3.560 -12.671  1.00  0.95\\nATOM    391  C   GLY A  98     -20.093  -2.798 -13.088  1.00  0.95\\nATOM    392  O   GLY A  98     -20.793  -3.197 -14.019  1.00  0.95\\nATOM    393  N   GLY A  99     -20.269  -1.671 -12.537  1.00  0.95\\nATOM    394  CA  GLY A  99     -21.441  -0.871 -12.869  1.00  0.95\\nATOM    395  C   GLY A  99     -21.247  -0.128 -14.184  1.00  0.95\\nATOM    396  O   GLY A  99     -22.200   0.089 -14.933  1.00  0.95\\nATOM    397  N   GLY A 100     -20.042   0.056 -14.548  1.00  0.91\\nATOM    398  CA  GLY A 100     -19.781   0.743 -15.808  1.00  0.91\\nATOM    399  C   GLY A 100     -19.970  -0.193 -16.995  1.00  0.91\\nATOM    400  O   GLY A 100     -20.630   0.157 -17.974  1.00  0.91\\n\",\"pdb\");\n\tviewer_1753495685193856.setStyle({\"cartoon\": {\"color\": \"spectrum\"}});\n\tviewer_1753495685193856.zoomTo();\nviewer_1753495685193856.render();\n});\n</script>",
            "text/html": [
              "<div id=\"3dmolviewer_1753495685193856\"  style=\"position: relative; width: 640px; height: 480px;\">\n",
              "        <p id=\"3dmolwarning_1753495685193856\" style=\"background-color:#ffcccc;color:black\">3Dmol.js failed to load for some reason.  Please check your browser console for error messages.<br></p>\n",
              "        </div>\n",
              "<script>\n",
              "\n",
              "var loadScriptAsync = function(uri){\n",
              "  return new Promise((resolve, reject) => {\n",
              "    //this is to ignore the existence of requirejs amd\n",
              "    var savedexports, savedmodule;\n",
              "    if (typeof exports !== 'undefined') savedexports = exports;\n",
              "    else exports = {}\n",
              "    if (typeof module !== 'undefined') savedmodule = module;\n",
              "    else module = {}\n",
              "\n",
              "    var tag = document.createElement('script');\n",
              "    tag.src = uri;\n",
              "    tag.async = true;\n",
              "    tag.onload = () => {\n",
              "        exports = savedexports;\n",
              "        module = savedmodule;\n",
              "        resolve();\n",
              "    };\n",
              "  var firstScriptTag = document.getElementsByTagName('script')[0];\n",
              "  firstScriptTag.parentNode.insertBefore(tag, firstScriptTag);\n",
              "});\n",
              "};\n",
              "\n",
              "if(typeof $3Dmolpromise === 'undefined') {\n",
              "$3Dmolpromise = null;\n",
              "  $3Dmolpromise = loadScriptAsync('https://3dmol.org/build/3Dmol.js');\n",
              "}\n",
              "\n",
              "var viewer_1753495685193856 = null;\n",
              "var warn = document.getElementById(\"3dmolwarning_1753495685193856\");\n",
              "if(warn) {\n",
              "    warn.parentNode.removeChild(warn);\n",
              "}\n",
              "$3Dmolpromise.then(function() {\n",
              "viewer_1753495685193856 = $3Dmol.createViewer(document.getElementById(\"3dmolviewer_1753495685193856\"),{backgroundColor:\"white\"});\n",
              "viewer_1753495685193856.zoomTo();\n",
              "\tviewer_1753495685193856.addModel(\"ATOM      1  N   GLY A   1     -11.946   6.978 -21.060  1.00  0.92\\nATOM      2  CA  GLY A   1     -10.846   7.469 -20.239  1.00  0.92\\nATOM      3  C   GLY A   1     -11.082   7.166 -18.764  1.00  0.92\\nATOM      4  O   GLY A   1     -10.158   6.790 -18.043  1.00  0.92\\nATOM      5  N   GLY A   2     -12.247   7.299 -18.372  1.00  0.93\\nATOM      6  CA  GLY A   2     -12.566   7.006 -16.980  1.00  0.93\\nATOM      7  C   GLY A   2     -12.425   5.519 -16.684  1.00  0.93\\nATOM      8  O   GLY A   2     -11.931   5.131 -15.625  1.00  0.93\\nATOM      9  N   GLY A   3     -12.852   4.709 -17.575  1.00  0.94\\nATOM     10  CA  GLY A   3     -12.702   3.272 -17.376  1.00  0.94\\nATOM     11  C   GLY A   3     -11.234   2.881 -17.273  1.00  0.94\\nATOM     12  O   GLY A   3     -10.858   2.056 -16.440  1.00  0.94\\nATOM     13  N   GLY A   4     -10.420   3.445 -18.073  1.00  0.94\\nATOM     14  CA  GLY A   4      -8.993   3.147 -18.031  1.00  0.94\\nATOM     15  C   GLY A   4      -8.373   3.605 -16.717  1.00  0.94\\nATOM     16  O   GLY A   4      -7.538   2.910 -16.138  1.00  0.94\\nATOM     17  N   GLY A   5      -8.764   4.737 -16.245  1.00  0.94\\nATOM     18  CA  GLY A   5      -8.248   5.219 -14.969  1.00  0.94\\nATOM     19  C   GLY A   5      -8.660   4.300 -13.826  1.00  0.94\\nATOM     20  O   GLY A   5      -7.862   4.006 -12.936  1.00  0.94\\nATOM     21  N   GLY A   6      -9.884   3.866 -13.846  1.00  0.95\\nATOM     22  CA  GLY A   6     -10.349   2.954 -12.808  1.00  0.95\\nATOM     23  C   GLY A   6      -9.586   1.636 -12.850  1.00  0.95\\nATOM     24  O   GLY A   6      -9.218   1.088 -11.811  1.00  0.95\\nATOM     25  N   GLY A   7      -9.361   1.127 -14.030  1.00  0.95\\nATOM     26  CA  GLY A   7      -8.595  -0.108 -14.150  1.00  0.95\\nATOM     27  C   GLY A   7      -7.181   0.066 -13.611  1.00  0.95\\nATOM     28  O   GLY A   7      -6.659  -0.806 -12.916  1.00  0.95\\nATOM     29  N   GLY A   8      -6.585   1.183 -13.891  1.00  0.95\\nATOM     30  CA  GLY A   8      -5.236   1.439 -13.401  1.00  0.95\\nATOM     31  C   GLY A   8      -5.215   1.553 -11.882  1.00  0.95\\nATOM     32  O   GLY A   8      -4.320   1.023 -11.223  1.00  0.95\\nATOM     33  N   GLY A   9      -6.189   2.209 -11.325  1.00  0.95\\nATOM     34  CA  GLY A   9      -6.264   2.338  -9.875  1.00  0.95\\nATOM     35  C   GLY A   9      -6.490   0.985  -9.213  1.00  0.95\\nATOM     36  O   GLY A   9      -5.888   0.677  -8.185  1.00  0.95\\nATOM     37  N   GLY A  10      -7.330   0.176  -9.808  1.00  0.96\\nATOM     38  CA  GLY A  10      -7.579  -1.155  -9.266  1.00  0.96\\nATOM     39  C   GLY A  10      -6.317  -2.009  -9.303  1.00  0.96\\nATOM     40  O   GLY A  10      -6.000  -2.706  -8.339  1.00  0.96\\nATOM     41  N   GLY A  11      -5.572  -1.896 -10.367  1.00  0.95\\nATOM     42  CA  GLY A  11      -4.344  -2.673 -10.489  1.00  0.95\\nATOM     43  C   GLY A  11      -3.302  -2.219  -9.475  1.00  0.95\\nATOM     44  O   GLY A  11      -2.626  -3.040  -8.855  1.00  0.95\\nATOM     45  N   GLY A  12      -3.191  -0.947  -9.265  1.00  0.95\\nATOM     46  CA  GLY A  12      -2.219  -0.427  -8.311  1.00  0.95\\nATOM     47  C   GLY A  12      -2.574  -0.832  -6.886  1.00  0.95\\nATOM     48  O   GLY A  12      -1.705  -1.225  -6.108  1.00  0.95\\nATOM     49  N   GLY A  13      -3.815  -0.745  -6.540  1.00  0.95\\nATOM     50  CA  GLY A  13      -4.240  -1.122  -5.197  1.00  0.95\\nATOM     51  C   GLY A  13      -4.037  -2.612  -4.954  1.00  0.95\\nATOM     52  O   GLY A  13      -3.592  -3.021  -3.882  1.00  0.95\\nATOM     53  N   GLY A  14      -4.302  -3.412  -5.952  1.00  0.96\\nATOM     54  CA  GLY A  14      -4.101  -4.848  -5.803  1.00  0.96\\nATOM     55  C   GLY A  14      -2.623  -5.185  -5.657  1.00  0.96\\nATOM     56  O   GLY A  14      -2.245  -6.019  -4.834  1.00  0.96\\nATOM     57  N   GLY A  15      -1.790  -4.509  -6.408  1.00  0.95\\nATOM     58  CA  GLY A  15      -0.355  -4.747  -6.318  1.00  0.95\\nATOM     59  C   GLY A  15       0.180  -4.375  -4.941  1.00  0.95\\nATOM     60  O   GLY A  15       0.994  -5.097  -4.364  1.00  0.95\\nATOM     61  N   GLY A  16      -0.285  -3.290  -4.403  1.00  0.95\\nATOM     62  CA  GLY A  16       0.160  -2.862  -3.082  1.00  0.95\\nATOM     63  C   GLY A  16      -0.310  -3.829  -2.003  1.00  0.95\\nATOM     64  O   GLY A  16       0.447  -4.180  -1.098  1.00  0.95\\nATOM     65  N   GLY A  17      -1.528  -4.291  -2.112  1.00  0.95\\nATOM     66  CA  GLY A  17      -2.055  -5.241  -1.141  1.00  0.95\\nATOM     67  C   GLY A  17      -1.300  -6.563  -1.198  1.00  0.95\\nATOM     68  O   GLY A  17      -0.946  -7.132  -0.165  1.00  0.95\\nATOM     69  N   GLY A  18      -1.007  -7.017  -2.388  1.00  0.96\\nATOM     70  CA  GLY A  18      -0.271  -8.267  -2.542  1.00  0.96\\nATOM     71  C   GLY A  18       1.140  -8.148  -1.980  1.00  0.96\\nATOM     72  O   GLY A  18       1.629  -9.056  -1.308  1.00  0.96\\nATOM     73  N   GLY A  19       1.771  -7.041  -2.209  1.00  0.95\\nATOM     74  CA  GLY A  19       3.115  -6.825  -1.688  1.00  0.95\\nATOM     75  C   GLY A  19       3.119  -6.807  -0.165  1.00  0.95\\nATOM     76  O   GLY A  19       3.989  -7.404   0.470  1.00  0.95\\nATOM     77  N   GLY A  20       2.163  -6.138   0.404  1.00  0.95\\nATOM     78  CA  GLY A  20       2.081  -6.070   1.858  1.00  0.95\\nATOM     79  C   GLY A  20       1.824  -7.445   2.461  1.00  0.95\\nATOM     80  O   GLY A  20       2.450  -7.827   3.449  1.00  0.95\\nATOM     81  N   GLY A  21       0.976  -8.206   1.817  1.00  0.96\\nATOM     82  CA  GLY A  21       0.660  -9.537   2.321  1.00  0.96\\nATOM     83  C   GLY A  21       1.870 -10.459   2.240  1.00  0.96\\nATOM     84  O   GLY A  21       2.165 -11.196   3.181  1.00  0.96\\nATOM     85  N   GLY A  22       2.577 -10.408   1.155  1.00  0.96\\nATOM     86  CA  GLY A  22       3.769 -11.230   0.988  1.00  0.96\\nATOM     87  C   GLY A  22       4.828 -10.882   2.026  1.00  0.96\\nATOM     88  O   GLY A  22       5.454 -11.768   2.609  1.00  0.96\\nATOM     89  N   GLY A  23       4.995  -9.624   2.274  1.00  0.96\\nATOM     90  CA  GLY A  23       5.977  -9.191   3.261  1.00  0.96\\nATOM     91  C   GLY A  23       5.590  -9.649   4.661  1.00  0.96\\nATOM     92  O   GLY A  23       6.438 -10.094   5.435  1.00  0.96\\nATOM     93  N   GLY A  24       4.329  -9.574   4.942  1.00  0.95\\nATOM     94  CA  GLY A  24       3.852 -10.015   6.247  1.00  0.95\\nATOM     95  C   GLY A  24       4.013 -11.521   6.413  1.00  0.95\\nATOM     96  O   GLY A  24       4.452 -11.997   7.460  1.00  0.95\\nATOM     97  N   GLY A  25       3.722 -12.228   5.352  1.00  0.96\\nATOM     98  CA  GLY A  25       3.844 -13.680   5.404  1.00  0.96\\nATOM     99  C   GLY A  25       5.298 -14.104   5.569  1.00  0.96\\nATOM    100  O   GLY A  25       5.604 -15.018   6.335  1.00  0.96\\nATOM    101  N   GLY A  26       6.160 -13.408   4.990  1.00  0.97\\nATOM    102  CA  GLY A  26       7.583 -13.716   5.074  1.00  0.97\\nATOM    103  C   GLY A  26       8.178 -13.221   6.386  1.00  0.97\\nATOM    104  O   GLY A  26       9.221 -13.704   6.827  1.00  0.97\\nATOM    105  N   GLY A  27       7.437 -12.425   7.062  1.00  0.96\\nATOM    106  CA  GLY A  27       7.874 -11.992   8.384  1.00  0.96\\nATOM    107  C   GLY A  27       8.882 -10.854   8.286  1.00  0.96\\nATOM    108  O   GLY A  27       9.665 -10.625   9.207  1.00  0.96\\nATOM    109  N   GLY A  28       8.772  -9.983   7.398  1.00  0.96\\nATOM    110  CA  GLY A  28       9.626  -8.806   7.294  1.00  0.96\\nATOM    111  C   GLY A  28       9.314  -7.799   8.394  1.00  0.96\\nATOM    112  O   GLY A  28       8.154  -7.602   8.757  1.00  0.96\\nATOM    113  N   GLY A  29      10.295  -7.217   8.992  1.00  0.94\\nATOM    114  CA  GLY A  29      10.065  -6.194  10.005  1.00  0.94\\nATOM    115  C   GLY A  29       9.261  -5.030   9.440  1.00  0.94\\nATOM    116  O   GLY A  29       9.461  -4.622   8.295  1.00  0.94\\nATOM    117  N   GLY A  30       8.625  -4.310  10.333  1.00  0.93\\nATOM    118  CA  GLY A  30       7.787  -3.194   9.912  1.00  0.93\\nATOM    119  C   GLY A  30       8.611  -2.116   9.220  1.00  0.93\\nATOM    120  O   GLY A  30       8.174  -1.525   8.233  1.00  0.93\\nATOM    121  N   GLY A  31       9.766  -1.851   9.653  1.00  0.93\\nATOM    122  CA  GLY A  31      10.628  -0.857   9.024  1.00  0.93\\nATOM    123  C   GLY A  31      11.017  -1.278   7.613  1.00  0.93\\nATOM    124  O   GLY A  31      11.005  -0.467   6.687  1.00  0.93\\nATOM    125  N   GLY A  32      11.341  -2.510   7.433  1.00  0.95\\nATOM    126  CA  GLY A  32      11.675  -3.015   6.107  1.00  0.95\\nATOM    127  C   GLY A  32      10.457  -3.012   5.193  1.00  0.95\\nATOM    128  O   GLY A  32      10.558  -2.690   4.009  1.00  0.95\\nATOM    129  N   GLY A  33       9.326  -3.321   5.742  1.00  0.95\\nATOM    130  CA  GLY A  33       8.097  -3.299   4.959  1.00  0.95\\nATOM    131  C   GLY A  33       7.772  -1.888   4.483  1.00  0.95\\nATOM    132  O   GLY A  33       7.369  -1.687   3.338  1.00  0.95\\nATOM    133  N   GLY A  34       7.935  -0.930   5.358  1.00  0.94\\nATOM    134  CA  GLY A  34       7.687   0.456   4.981  1.00  0.94\\nATOM    135  C   GLY A  34       8.650   0.911   3.891  1.00  0.94\\nATOM    136  O   GLY A  34       8.251   1.579   2.937  1.00  0.94\\nATOM    137  N   GLY A  35       9.887   0.495   3.988  1.00  0.94\\nATOM    138  CA  GLY A  35      10.862   0.859   2.967  1.00  0.94\\nATOM    139  C   GLY A  35      10.513   0.231   1.624  1.00  0.94\\nATOM    140  O   GLY A  35      10.598   0.882   0.582  1.00  0.94\\nATOM    141  N   GLY A  36      10.123  -1.011   1.626  1.00  0.95\\nATOM    142  CA  GLY A  36       9.739  -1.686   0.392  1.00  0.95\\nATOM    143  C   GLY A  36       8.523  -1.024  -0.242  1.00  0.95\\nATOM    144  O   GLY A  36       8.463  -0.849  -1.459  1.00  0.95\\nATOM    145  N   GLY A  37       7.581  -0.638   0.562  1.00  0.94\\nATOM    146  CA  GLY A  37       6.398   0.040   0.046  1.00  0.94\\nATOM    147  C   GLY A  37       6.757   1.392  -0.557  1.00  0.94\\nATOM    148  O   GLY A  37       6.235   1.773  -1.604  1.00  0.94\\nATOM    149  N   GLY A  38       7.669   2.087   0.064  1.00  0.93\\nATOM    150  CA  GLY A  38       8.122   3.367  -0.467  1.00  0.93\\nATOM    151  C   GLY A  38       8.779   3.196  -1.831  1.00  0.93\\nATOM    152  O   GLY A  38       8.532   3.975  -2.751  1.00  0.93\\nATOM    153  N   GLY A  39       9.540   2.150  -1.971  1.00  0.94\\nATOM    154  CA  GLY A  39      10.181   1.870  -3.250  1.00  0.94\\nATOM    155  C   GLY A  39       9.152   1.510  -4.314  1.00  0.94\\nATOM    156  O   GLY A  39       9.245   1.956  -5.458  1.00  0.94\\nATOM    157  N   GLY A  40       8.159   0.798  -3.935  1.00  0.94\\nATOM    158  CA  GLY A  40       7.112   0.387  -4.862  1.00  0.94\\nATOM    159  C   GLY A  40       6.287   1.581  -5.325  1.00  0.94\\nATOM    160  O   GLY A  40       5.877   1.653  -6.484  1.00  0.94\\nATOM    161  N   GLY A  41       6.090   2.516  -4.474  1.00  0.94\\nATOM    162  CA  GLY A  41       5.316   3.708  -4.797  1.00  0.94\\nATOM    163  C   GLY A  41       5.984   4.516  -5.902  1.00  0.94\\nATOM    164  O   GLY A  41       5.310   5.127  -6.731  1.00  0.94\\nATOM    165  N   GLY A  42       7.249   4.360  -6.045  1.00  0.93\\nATOM    166  CA  GLY A  42       7.994   5.079  -7.071  1.00  0.93\\nATOM    167  C   GLY A  42       7.665   4.553  -8.462  1.00  0.93\\nATOM    168  O   GLY A  42       7.699   5.297  -9.442  1.00  0.93\\nATOM    169  N   GLY A  43       7.025   3.463  -8.513  1.00  0.93\\nATOM    170  CA  GLY A  43       6.673   2.847  -9.787  1.00  0.93\\nATOM    171  C   GLY A  43       5.219   3.120 -10.148  1.00  0.93\\nATOM    172  O   GLY A  43       4.815   2.960 -11.300  1.00  0.93\\nATOM    173  N   GLY A  44       4.526   3.731  -9.313  1.00  0.94\\nATOM    174  CA  GLY A  44       3.118   4.015  -9.560  1.00  0.94\\nATOM    175  C   GLY A  44       2.947   5.301 -10.359  1.00  0.94\\nATOM    176  O   GLY A  44       3.887   6.082 -10.505  1.00  0.94\\nATOM    177  N   GLY A  45       1.769   5.521 -10.894  1.00  0.93\\nATOM    178  CA  GLY A  45       1.518   6.776 -11.591  1.00  0.93\\nATOM    179  C   GLY A  45       1.930   7.971 -10.741  1.00  0.93\\nATOM    180  O   GLY A  45       1.799   7.948  -9.517  1.00  0.93\\nATOM    181  N   GLY A  46       2.359   8.985 -11.454  1.00  0.94\\nATOM    182  CA  GLY A  46       2.924  10.162 -10.806  1.00  0.94\\nATOM    183  C   GLY A  46       1.953  10.751  -9.791  1.00  0.94\\nATOM    184  O   GLY A  46       2.345  11.118  -8.683  1.00  0.94\\nATOM    185  N   GLY A  47       0.760  10.875 -10.067  1.00  0.93\\nATOM    186  CA  GLY A  47      -0.214  11.475  -9.164  1.00  0.93\\nATOM    187  C   GLY A  47      -0.410  10.622  -7.918  1.00  0.93\\nATOM    188  O   GLY A  47      -0.455  11.138  -6.801  1.00  0.93\\nATOM    189  N   GLY A  48      -0.489   9.377  -8.096  1.00  0.94\\nATOM    190  CA  GLY A  48      -0.668   8.474  -6.965  1.00  0.94\\nATOM    191  C   GLY A  48       0.624   8.323  -6.172  1.00  0.94\\nATOM    192  O   GLY A  48       0.606   8.259  -4.943  1.00  0.94\\nATOM    193  N   GLY A  49       1.713   8.295  -6.888  1.00  0.95\\nATOM    194  CA  GLY A  49       3.006   8.181  -6.224  1.00  0.95\\nATOM    195  C   GLY A  49       3.256   9.366  -5.300  1.00  0.95\\nATOM    196  O   GLY A  49       3.718   9.198  -4.171  1.00  0.95\\nATOM    197  N   GLY A  50       2.934  10.524  -5.760  1.00  0.96\\nATOM    198  CA  GLY A  50       3.187  11.727  -4.977  1.00  0.96\\nATOM    199  C   GLY A  50       2.382  11.723  -3.684  1.00  0.96\\nATOM    200  O   GLY A  50       2.904  12.038  -2.615  1.00  0.96\\nATOM    201  N   GLY A  51       1.178  11.317  -3.743  1.00  0.94\\nATOM    202  CA  GLY A  51       0.323  11.326  -2.562  1.00  0.94\\nATOM    203  C   GLY A  51       0.726  10.230  -1.583  1.00  0.94\\nATOM    204  O   GLY A  51       0.819  10.464  -0.378  1.00  0.94\\nATOM    205  N   GLY A  52       0.935   9.056  -2.058  1.00  0.94\\nATOM    206  CA  GLY A  52       1.257   7.932  -1.187  1.00  0.94\\nATOM    207  C   GLY A  52       2.662   8.066  -0.613  1.00  0.94\\nATOM    208  O   GLY A  52       2.894   7.770   0.559  1.00  0.94\\nATOM    209  N   GLY A  53       3.571   8.548  -1.384  1.00  0.95\\nATOM    210  CA  GLY A  53       4.931   8.741  -0.897  1.00  0.95\\nATOM    211  C   GLY A  53       4.989   9.837   0.159  1.00  0.95\\nATOM    212  O   GLY A  53       5.678   9.703   1.170  1.00  0.95\\nATOM    213  N   GLY A  54       4.242  10.885  -0.052  1.00  0.96\\nATOM    214  CA  GLY A  54       4.199  11.953   0.940  1.00  0.96\\nATOM    215  C   GLY A  54       3.628  11.455   2.261  1.00  0.96\\nATOM    216  O   GLY A  54       4.139  11.783   3.332  1.00  0.96\\nATOM    217  N   GLY A  55       2.627  10.649   2.191  1.00  0.95\\nATOM    218  CA  GLY A  55       2.031  10.099   3.403  1.00  0.95\\nATOM    219  C   GLY A  55       3.005   9.176   4.125  1.00  0.95\\nATOM    220  O   GLY A  55       3.132   9.226   5.348  1.00  0.95\\nATOM    221  N   GLY A  56       3.673   8.350   3.390  1.00  0.94\\nATOM    222  CA  GLY A  56       4.625   7.427   3.996  1.00  0.94\\nATOM    223  C   GLY A  56       5.823   8.171   4.571  1.00  0.94\\nATOM    224  O   GLY A  56       6.295   7.856   5.664  1.00  0.94\\nATOM    225  N   GLY A  57       6.216   9.225   3.898  1.00  0.94\\nATOM    226  CA  GLY A  57       7.333  10.020   4.393  1.00  0.94\\nATOM    227  C   GLY A  57       6.953  10.776   5.660  1.00  0.94\\nATOM    228  O   GLY A  57       7.730  10.842   6.612  1.00  0.94\\nATOM    229  N   GLY A  58       5.773  11.315   5.682  1.00  0.95\\nATOM    230  CA  GLY A  58       5.309  12.021   6.870  1.00  0.95\\nATOM    231  C   GLY A  58       5.230  11.086   8.071  1.00  0.95\\nATOM    232  O   GLY A  58       5.625  11.449   9.179  1.00  0.95\\nATOM    233  N   GLY A  59       4.778   9.904   7.845  1.00  0.94\\nATOM    234  CA  GLY A  59       4.681   8.931   8.926  1.00  0.94\\nATOM    235  C   GLY A  59       6.060   8.549   9.449  1.00  0.94\\nATOM    236  O   GLY A  59       6.273   8.460  10.658  1.00  0.94\\nATOM    237  N   GLY A  60       6.970   8.344   8.561  1.00  0.94\\nATOM    238  CA  GLY A  60       8.323   7.979   8.963  1.00  0.94\\nATOM    239  C   GLY A  60       8.984   9.100   9.754  1.00  0.94\\nATOM    240  O   GLY A  60       9.622   8.857  10.779  1.00  0.94\\nATOM    241  N   GLY A  61       8.753  10.302   9.333  1.00  0.95\\nATOM    242  CA  GLY A  61       9.333  11.451  10.020  1.00  0.95\\nATOM    243  C   GLY A  61       8.772  11.591  11.429  1.00  0.95\\nATOM    244  O   GLY A  61       9.511  11.846  12.379  1.00  0.95\\nATOM    245  N   GLY A  62       7.525  11.323  11.580  1.00  0.95\\nATOM    246  CA  GLY A  62       6.887  11.429  12.886  1.00  0.95\\nATOM    247  C   GLY A  62       7.358  10.322  13.821  1.00  0.95\\nATOM    248  O   GLY A  62       7.591  10.555  15.007  1.00  0.95\\nATOM    249  N   GLY A  63       7.591   9.193  13.300  1.00  0.95\\nATOM    250  CA  GLY A  63       7.970   8.042  14.112  1.00  0.95\\nATOM    251  C   GLY A  63       9.435   8.116  14.522  1.00  0.95\\nATOM    252  O   GLY A  63       9.823   7.599  15.569  1.00  0.95\\nATOM    253  N   GLY A  64      10.194   8.882  13.858  1.00  0.93\\nATOM    254  CA  GLY A  64      11.626   8.969  14.115  1.00  0.93\\nATOM    255  C   GLY A  64      11.904   9.583  15.481  1.00  0.93\\nATOM    256  O   GLY A  64      12.833   9.176  16.179  1.00  0.93\\nATOM    257  N   GLY A  65      11.019  10.220  16.050  1.00  0.95\\nATOM    258  CA  GLY A  65      11.232  10.863  17.341  1.00  0.95\\nATOM    259  C   GLY A  65      10.723   9.991  18.481  1.00  0.95\\nATOM    260  O   GLY A  65      11.111  10.172  19.636  1.00  0.95\\nATOM    261  N   GLY A  66      10.220   8.897  18.189  1.00  0.96\\nATOM    262  CA  GLY A  66       9.663   8.040  19.230  1.00  0.96\\nATOM    263  C   GLY A  66      10.655   6.961  19.644  1.00  0.96\\nATOM    264  O   GLY A  66      11.563   6.615  18.887  1.00  0.96\\nATOM    265  N   GLY A  67      10.461   6.424  20.795  1.00  0.97\\nATOM    266  CA  GLY A  67      11.264   5.273  21.190  1.00  0.97\\nATOM    267  C   GLY A  67      11.017   4.086  20.267  1.00  0.97\\nATOM    268  O   GLY A  67       9.930   3.938  19.707  1.00  0.97\\nATOM    269  N   GLY A  68      11.932   3.173  20.286  1.00  0.95\\nATOM    270  CA  GLY A  68      11.896   2.048  19.360  1.00  0.95\\nATOM    271  C   GLY A  68      10.634   1.217  19.552  1.00  0.95\\nATOM    272  O   GLY A  68      10.013   0.781  18.582  1.00  0.95\\nATOM    273  N   GLY A  69      10.225   0.955  20.720  1.00  0.96\\nATOM    274  CA  GLY A  69       9.030   0.157  20.969  1.00  0.96\\nATOM    275  C   GLY A  69       7.775   0.886  20.507  1.00  0.96\\nATOM    276  O   GLY A  69       6.892   0.291  19.888  1.00  0.96\\nATOM    277  N   GLY A  70       7.686   2.132  20.790  1.00  0.96\\nATOM    278  CA  GLY A  70       6.546   2.918  20.333  1.00  0.96\\nATOM    279  C   GLY A  70       6.549   3.062  18.817  1.00  0.96\\nATOM    280  O   GLY A  70       5.499   3.008  18.176  1.00  0.96\\nATOM    281  N   GLY A  71       7.710   3.213  18.270  1.00  0.96\\nATOM    282  CA  GLY A  71       7.810   3.302  16.818  1.00  0.96\\nATOM    283  C   GLY A  71       7.329   2.019  16.153  1.00  0.96\\nATOM    284  O   GLY A  71       6.612   2.058  15.153  1.00  0.96\\nATOM    285  N   GLY A  72       7.737   0.901  16.682  1.00  0.95\\nATOM    286  CA  GLY A  72       7.315  -0.377  16.122  1.00  0.95\\nATOM    287  C   GLY A  72       5.801  -0.534  16.187  1.00  0.95\\nATOM    288  O   GLY A  72       5.173  -0.987  15.230  1.00  0.95\\nATOM    289  N   GLY A  73       5.224  -0.173  17.281  1.00  0.96\\nATOM    290  CA  GLY A  73       3.776  -0.276  17.424  1.00  0.96\\nATOM    291  C   GLY A  73       3.059   0.648  16.448  1.00  0.96\\nATOM    292  O   GLY A  73       2.079   0.258  15.814  1.00  0.96\\nATOM    293  N   GLY A  74       3.552   1.851  16.309  1.00  0.96\\nATOM    294  CA  GLY A  74       2.932   2.799  15.392  1.00  0.96\\nATOM    295  C   GLY A  74       3.095   2.352  13.945  1.00  0.96\\nATOM    296  O   GLY A  74       2.169   2.467  13.141  1.00  0.96\\nATOM    297  N   GLY A  75       4.245   1.840  13.615  1.00  0.95\\nATOM    298  CA  GLY A  75       4.477   1.367  12.255  1.00  0.95\\nATOM    299  C   GLY A  75       3.581   0.180  11.924  1.00  0.95\\nATOM    300  O   GLY A  75       3.020   0.099  10.832  1.00  0.95\\nATOM    301  N   GLY A  76       3.424  -0.721  12.851  1.00  0.95\\nATOM    302  CA  GLY A  76       2.545  -1.864  12.632  1.00  0.95\\nATOM    303  C   GLY A  76       1.096  -1.422  12.472  1.00  0.95\\nATOM    304  O   GLY A  76       0.381  -1.911  11.598  1.00  0.95\\nATOM    305  N   GLY A  77       0.662  -0.519  13.300  1.00  0.96\\nATOM    306  CA  GLY A  77      -0.701  -0.015  13.189  1.00  0.96\\nATOM    307  C   GLY A  77      -0.922   0.687  11.856  1.00  0.96\\nATOM    308  O   GLY A  77      -1.966   0.525  11.223  1.00  0.96\\nATOM    309  N   GLY A  78       0.059   1.421  11.425  1.00  0.95\\nATOM    310  CA  GLY A  78      -0.053   2.106  10.143  1.00  0.95\\nATOM    311  C   GLY A  78      -0.143   1.112   8.993  1.00  0.95\\nATOM    312  O   GLY A  78      -0.933   1.289   8.066  1.00  0.95\\nATOM    313  N   GLY A  79       0.690   0.098   9.035  1.00  0.94\\nATOM    314  CA  GLY A  79       0.653  -0.916   7.988  1.00  0.94\\nATOM    315  C   GLY A  79      -0.698  -1.618   7.949  1.00  0.94\\nATOM    316  O   GLY A  79      -1.252  -1.861   6.877  1.00  0.94\\nATOM    317  N   GLY A  80      -1.254  -1.866   9.119  1.00  0.95\\nATOM    318  CA  GLY A  80      -2.572  -2.489   9.168  1.00  0.95\\nATOM    319  C   GLY A  80      -3.641  -1.562   8.605  1.00  0.95\\nATOM    320  O   GLY A  80      -4.516  -1.992   7.854  1.00  0.95\\nATOM    321  N   GLY A  81      -3.560  -0.305   8.942  1.00  0.95\\nATOM    322  CA  GLY A  81      -4.516   0.663   8.416  1.00  0.95\\nATOM    323  C   GLY A  81      -4.390   0.795   6.904  1.00  0.95\\nATOM    324  O   GLY A  81      -5.392   0.843   6.190  1.00  0.95\\nATOM    325  N   GLY A  82      -3.176   0.831   6.433  1.00  0.94\\nATOM    326  CA  GLY A  82      -2.952   0.936   4.996  1.00  0.94\\nATOM    327  C   GLY A  82      -3.489  -0.287   4.264  1.00  0.94\\nATOM    328  O   GLY A  82      -4.096  -0.169   3.200  1.00  0.94\\nATOM    329  N   GLY A  83      -3.326  -1.444   4.873  1.00  0.95\\nATOM    330  CA  GLY A  83      -3.834  -2.666   4.261  1.00  0.95\\nATOM    331  C   GLY A  83      -5.356  -2.663   4.206  1.00  0.95\\nATOM    332  O   GLY A  83      -5.950  -3.025   3.190  1.00  0.95\\nATOM    333  N   GLY A  84      -5.981  -2.184   5.245  1.00  0.97\\nATOM    334  CA  GLY A  84      -7.438  -2.122   5.277  1.00  0.97\\nATOM    335  C   GLY A  84      -7.967  -1.092   4.286  1.00  0.97\\nATOM    336  O   GLY A  84      -8.940  -1.344   3.576  1.00  0.97\\nATOM    337  N   GLY A  85      -7.307   0.019   4.193  1.00  0.96\\nATOM    338  CA  GLY A  85      -7.735   1.064   3.271  1.00  0.96\\nATOM    339  C   GLY A  85      -7.579   0.618   1.823  1.00  0.96\\nATOM    340  O   GLY A  85      -8.453   0.862   0.991  1.00  0.96\\nATOM    341  N   GLY A  86      -6.488  -0.008   1.523  1.00  0.96\\nATOM    342  CA  GLY A  86      -6.263  -0.491   0.166  1.00  0.96\\nATOM    343  C   GLY A  86      -7.292  -1.544  -0.222  1.00  0.96\\nATOM    344  O   GLY A  86      -7.802  -1.545  -1.342  1.00  0.96\\nATOM    345  N   GLY A  87      -7.645  -2.373   0.724  1.00  0.97\\nATOM    346  CA  GLY A  87      -8.657  -3.387   0.453  1.00  0.97\\nATOM    347  C   GLY A  87     -10.015  -2.752   0.185  1.00  0.97\\nATOM    348  O   GLY A  87     -10.725  -3.147  -0.740  1.00  0.97\\nATOM    349  N   GLY A  88     -10.354  -1.767   0.966  1.00  0.98\\nATOM    350  CA  GLY A  88     -11.622  -1.075   0.770  1.00  0.98\\nATOM    351  C   GLY A  88     -11.641  -0.326  -0.557  1.00  0.98\\nATOM    352  O   GLY A  88     -12.635  -0.354  -1.282  1.00  0.98\\nATOM    353  N   GLY A  89     -10.533   0.279  -0.882  1.00  0.96\\nATOM    354  CA  GLY A  89     -10.444   1.009  -2.141  1.00  0.96\\nATOM    355  C   GLY A  89     -10.551   0.067  -3.333  1.00  0.96\\nATOM    356  O   GLY A  89     -11.209   0.378  -4.326  1.00  0.96\\nATOM    357  N   GLY A  90      -9.966  -1.088  -3.197  1.00  0.97\\nATOM    358  CA  GLY A  90     -10.056  -2.075  -4.266  1.00  0.97\\nATOM    359  C   GLY A  90     -11.492  -2.545  -4.462  1.00  0.97\\nATOM    360  O   GLY A  90     -11.973  -2.647  -5.591  1.00  0.97\\nATOM    361  N   GLY A  91     -12.170  -2.754  -3.373  1.00  0.97\\nATOM    362  CA  GLY A  91     -13.558  -3.195  -3.450  1.00  0.97\\nATOM    363  C   GLY A  91     -14.442  -2.124  -4.077  1.00  0.97\\nATOM    364  O   GLY A  91     -15.274  -2.417  -4.935  1.00  0.97\\nATOM    365  N   GLY A  92     -14.199  -0.900  -3.725  1.00  0.97\\nATOM    366  CA  GLY A  92     -14.990   0.193  -4.277  1.00  0.97\\nATOM    367  C   GLY A  92     -14.740   0.354  -5.771  1.00  0.97\\nATOM    368  O   GLY A  92     -15.675   0.538  -6.550  1.00  0.97\\nATOM    369  N   GLY A  93     -13.511   0.248  -6.166  1.00  0.96\\nATOM    370  CA  GLY A  93     -13.179   0.381  -7.579  1.00  0.96\\nATOM    371  C   GLY A  93     -13.761  -0.768  -8.393  1.00  0.96\\nATOM    372  O   GLY A  93     -14.260  -0.566  -9.500  1.00  0.96\\nATOM    373  N   GLY A  94     -13.771  -1.923  -7.809  1.00  0.96\\nATOM    374  CA  GLY A  94     -14.333  -3.077  -8.499  1.00  0.96\\nATOM    375  C   GLY A  94     -15.834  -2.919  -8.704  1.00  0.96\\nATOM    376  O   GLY A  94     -16.357  -3.205  -9.781  1.00  0.96\\nATOM    377  N   GLY A  95     -16.502  -2.456  -7.689  1.00  0.96\\nATOM    378  CA  GLY A  95     -17.939  -2.235  -7.801  1.00  0.96\\nATOM    379  C   GLY A  95     -18.253  -1.180  -8.854  1.00  0.96\\nATOM    380  O   GLY A  95     -19.167  -1.347  -9.661  1.00  0.96\\nATOM    381  N   GLY A  96     -17.387  -0.208  -8.937  1.00  0.96\\nATOM    382  CA  GLY A  96     -17.585   0.848  -9.923  1.00  0.96\\nATOM    383  C   GLY A  96     -17.337   0.334 -11.336  1.00  0.96\\nATOM    384  O   GLY A  96     -18.085   0.650 -12.261  1.00  0.96\\nATOM    385  N   GLY A  97     -16.367  -0.504 -11.463  1.00  0.95\\nATOM    386  CA  GLY A  97     -16.066  -1.061 -12.776  1.00  0.95\\nATOM    387  C   GLY A  97     -17.184  -1.977 -13.256  1.00  0.95\\nATOM    388  O   GLY A  97     -17.563  -1.949 -14.427  1.00  0.95\\nATOM    389  N   GLY A  98     -17.761  -2.647 -12.321  1.00  0.95\\nATOM    390  CA  GLY A  98     -18.842  -3.560 -12.671  1.00  0.95\\nATOM    391  C   GLY A  98     -20.093  -2.798 -13.088  1.00  0.95\\nATOM    392  O   GLY A  98     -20.793  -3.197 -14.019  1.00  0.95\\nATOM    393  N   GLY A  99     -20.269  -1.671 -12.537  1.00  0.95\\nATOM    394  CA  GLY A  99     -21.441  -0.871 -12.869  1.00  0.95\\nATOM    395  C   GLY A  99     -21.247  -0.128 -14.184  1.00  0.95\\nATOM    396  O   GLY A  99     -22.200   0.089 -14.933  1.00  0.95\\nATOM    397  N   GLY A 100     -20.042   0.056 -14.548  1.00  0.91\\nATOM    398  CA  GLY A 100     -19.781   0.743 -15.808  1.00  0.91\\nATOM    399  C   GLY A 100     -19.970  -0.193 -16.995  1.00  0.91\\nATOM    400  O   GLY A 100     -20.630   0.157 -17.974  1.00  0.91\\n\",\"pdb\");\n",
              "\tviewer_1753495685193856.setStyle({\"cartoon\": {\"color\": \"spectrum\"}});\n",
              "\tviewer_1753495685193856.zoomTo();\n",
              "viewer_1753495685193856.render();\n",
              "});\n",
              "</script>"
            ]
          },
          "metadata": {}
        }
      ]
    },
    {
      "cell_type": "code",
      "source": [
        "# 📦  Package and download results\n",
        "import zipfile, glob, os, google.colab\n",
        "\n",
        "pdb_pattern = f\"outputs/{name}_*.pdb\"\n",
        "pdb_files   = glob.glob(pdb_pattern)\n",
        "\n",
        "if not pdb_files:\n",
        "    raise FileNotFoundError(f\"No PDB files matching {pdb_pattern}\")\n",
        "\n",
        "zip_path = f\"{name}.result.zip\"\n",
        "with zipfile.ZipFile(zip_path, \"w\", zipfile.ZIP_DEFLATED) as z:\n",
        "    for f in pdb_files:\n",
        "        z.write(f, arcname=os.path.basename(f))\n",
        "\n",
        "print(f\"Zipped {len(pdb_files)} file(s) → {zip_path}\")\n",
        "google.colab.files.download(zip_path)\n",
        "print(\"📥  If the popup is blocked, use the left‑side file browser to download manually.\")\n",
        "\n"
      ],
      "metadata": {
        "colab": {
          "base_uri": "https://localhost:8080/",
          "height": 54
        },
        "id": "2ptyJOZiXrGH",
        "outputId": "592e64cd-c0fb-4aa7-dac7-3b8ca84cb2f8"
      },
      "execution_count": 27,
      "outputs": [
        {
          "output_type": "stream",
          "name": "stdout",
          "text": [
            "Zipped 1 file(s) → design1.result.zip\n"
          ]
        },
        {
          "output_type": "display_data",
          "data": {
            "text/plain": [
              "<IPython.core.display.Javascript object>"
            ],
            "application/javascript": [
              "\n",
              "    async function download(id, filename, size) {\n",
              "      if (!google.colab.kernel.accessAllowed) {\n",
              "        return;\n",
              "      }\n",
              "      const div = document.createElement('div');\n",
              "      const label = document.createElement('label');\n",
              "      label.textContent = `Downloading \"${filename}\": `;\n",
              "      div.appendChild(label);\n",
              "      const progress = document.createElement('progress');\n",
              "      progress.max = size;\n",
              "      div.appendChild(progress);\n",
              "      document.body.appendChild(div);\n",
              "\n",
              "      const buffers = [];\n",
              "      let downloaded = 0;\n",
              "\n",
              "      const channel = await google.colab.kernel.comms.open(id);\n",
              "      // Send a message to notify the kernel that we're ready.\n",
              "      channel.send({})\n",
              "\n",
              "      for await (const message of channel.messages) {\n",
              "        // Send a message to notify the kernel that we're ready.\n",
              "        channel.send({})\n",
              "        if (message.buffers) {\n",
              "          for (const buffer of message.buffers) {\n",
              "            buffers.push(buffer);\n",
              "            downloaded += buffer.byteLength;\n",
              "            progress.value = downloaded;\n",
              "          }\n",
              "        }\n",
              "      }\n",
              "      const blob = new Blob(buffers, {type: 'application/binary'});\n",
              "      const a = document.createElement('a');\n",
              "      a.href = window.URL.createObjectURL(blob);\n",
              "      a.download = filename;\n",
              "      div.appendChild(a);\n",
              "      a.click();\n",
              "      div.remove();\n",
              "    }\n",
              "  "
            ]
          },
          "metadata": {}
        },
        {
          "output_type": "display_data",
          "data": {
            "text/plain": [
              "<IPython.core.display.Javascript object>"
            ],
            "application/javascript": [
              "download(\"download_224f88ab-9dfb-4603-931e-8010b850fd2e\", \"design1.result.zip\", 6442)"
            ]
          },
          "metadata": {}
        },
        {
          "output_type": "stream",
          "name": "stdout",
          "text": [
            "📥  If the popup is blocked, use the left‑side file browser to download manually.\n"
          ]
        }
      ]
    },
    {
      "cell_type": "code",
      "source": [
        "## Usage notes\n",
        "* **length** = exact backbone length (integer).\n",
        "* Use **iterations** = 100–150 for harder cases; ≥150 slows down.\n",
        "* PDBs are dumped to `/content/outputs/…`.\n",
        "* For oligomeric or motif‑scaffold tasks, switch to Notebook 02 / 03.\n"
      ],
      "metadata": {
        "id": "xwfJha_uXs3u"
      },
      "execution_count": null,
      "outputs": []
    }
  ]
}