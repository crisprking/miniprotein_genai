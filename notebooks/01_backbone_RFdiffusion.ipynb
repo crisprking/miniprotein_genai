{
  "nbformat": 4,
  "nbformat_minor": 0,
  "metadata": {
    "colab": {
      "provenance": [],
      "authorship_tag": "ABX9TyO3YhQmStxXerzvINhwfIIQ",
      "include_colab_link": true
    },
    "kernelspec": {
      "name": "python3",
      "display_name": "Python 3"
    },
    "language_info": {
      "name": "python"
    }
  },
  "cells": [
    {
      "cell_type": "markdown",
      "metadata": {
        "id": "view-in-github",
        "colab_type": "text"
      },
      "source": [
        "<a href=\"https://colab.research.google.com/github/crisprking/miniprotein_genai/blob/main/notebooks/01_backbone_RFdiffusion.ipynb\" target=\"_parent\"><img src=\"https://colab.research.google.com/assets/colab-badge.svg\" alt=\"Open In Colab\"/></a>"
      ]
    },
    {
      "cell_type": "code",
      "execution_count": null,
      "metadata": {
        "id": "2-j75p8lIeYP"
      },
      "outputs": [],
      "source": [
        "<details><summary>Cell 1 – Install packages (run once per session)</summary>\n",
        "python\n",
        "\n",
        "#@title 🔧 Install RFdiffusion & helpers (~3 min)\n",
        "%%bash\n",
        "python - <<'PY'\n",
        "import subprocess, sys\n",
        "pkgs = [\n",
        "    \"git+https://github.com/sokrypton/RFdiffusion@v1.1.1\",\n",
        "    \"git+https://github.com/sokrypton/ColabDesign@v1.1.1\",\n",
        "    \"py3Dmol\", \"omegaconf\", \"hydra-core\"\n",
        "]\n",
        "subprocess.check_call([sys.executable, \"-m\", \"pip\", \"install\", \"--quiet\", *pkgs])\n",
        "print(\"✅ Packages installed\")\n",
        "PY\n",
        "\n",
        "</details> <details><summary>Cell 2 – Design parameters</summary>\n",
        "python\n",
        "Copy\n",
        "\n",
        "#@title ⚙️ Parameters\n",
        "name        = \"design1\"  #@param {type:\"string\"}\n",
        "length      = 100        #@param {type:\"integer\"}\n",
        "symmetry    = \"none\"     #@param [\"none\",\"cyclic\",\"dihedral\"]\n",
        "order       = 1          #@param {type:\"integer\"}\n",
        "num_designs = 1          #@param {type:\"integer\"}\n",
        "iterations  = 50         #@param [\"25\",\"50\",\"100\",\"150\",\"200\"] {type:\"raw\"}\n",
        "print(f\"Backbone length {length}, copies {num_designs}\")\n",
        "\n",
        "</details> <details><summary>Cell 3 – Run RFdiffusion</summary>\n",
        "python\n",
        "Copy\n",
        "\n",
        "#@title 🚀 Run RFdiffusion\n",
        "import subprocess, pathlib, sys\n",
        "contigs = f\"{length}\"\n",
        "out_prefix = f\"outputs/{name}\"\n",
        "\n",
        "cmd = [\n",
        "    \"python\",\"-m\",\"RFdiffusion.run_inference\",\n",
        "    f\"contigmap.contigs=[{contigs}]\",\n",
        "    f\"inference.output_prefix={out_prefix}\",\n",
        "    f\"inference.num_designs={num_designs}\",\n",
        "    f\"diffuser.T={iterations}\",\n",
        "    \"inference.dump_pdb=True\",\n",
        "    \"inference.dump_pdb_path=/dev/shm\"\n",
        "]\n",
        "if symmetry != \"none\":\n",
        "    symflag = f\"{symmetry[0]}{order}\"\n",
        "    cmd = [\"python\",\"-m\",\"RFdiffusion.run_inference\",\"--config-name\",\"symmetry\",\n",
        "           f\"inference.symmetry={symflag}\"] + cmd[2:]\n",
        "\n",
        "subprocess.check_call(cmd)\n",
        "print(\"✅ Backbone(s) finished; files in /content/outputs/\")\n",
        "\n",
        "</details> <details><summary>Cell 4 – Interactive preview</summary>\n",
        "python\n",
        "Copy\n",
        "\n",
        "#@title 👀 Preview first backbone\n",
        "import glob, py3Dmol, pathlib\n",
        "pdb = glob.glob(f\"outputs/{name}_0.pdb\")[0]\n",
        "view = py3Dmol.view(js='https://3dmol.org/build/3Dmol.js')\n",
        "view.addModel(open(pdb).read(),'pdb')\n",
        "view.setStyle({'cartoon':{'color':'spectrum'}})\n",
        "view.zoomTo(); view.show()\n",
        "\n",
        "</details> <details><summary>Cell 5 – Zip download</summary>\n",
        "python\n",
        "Copy\n",
        "\n",
        "#@title 📦 Download result\n",
        "import shutil, google.colab\n",
        "zip_name = f\"{name}.result\"\n",
        "shutil.make_archive(zip_name, \"zip\", root_dir=\"outputs\", base_dir=name)\n",
        "google.colab.files.download(f\"{zip_name}.zip\")\n",
        "\n"
      ]
    }
  ]
}