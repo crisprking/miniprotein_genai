{
  "nbformat": 4,
  "nbformat_minor": 0,
  "metadata": {
    "colab": {
      "provenance": [],
      "authorship_tag": "ABX9TyOYJKRADmz7u6Xch6LQbfOp",
      "include_colab_link": true
    },
    "kernelspec": {
      "name": "python3",
      "display_name": "Python 3"
    },
    "language_info": {
      "name": "python"
    }
  },
  "cells": [
    {
      "cell_type": "markdown",
      "metadata": {
        "id": "view-in-github",
        "colab_type": "text"
      },
      "source": [
        "<a href=\"https://colab.research.google.com/github/crisprking/miniprotein_genai/blob/main/notebooks/04_pipeline_end_to_end.ipynb\" target=\"_parent\"><img src=\"https://colab.research.google.com/assets/colab-badge.svg\" alt=\"Open In Colab\"/></a>"
      ]
    },
    {
      "cell_type": "code",
      "execution_count": null,
      "metadata": {
        "id": "nE1U4PIoJ7Oq"
      },
      "outputs": [],
      "source": [
        "#@title 🎛️ End‑to‑end pipeline (RFdiffusion → MP‑NN → AF2)\n",
        "seq_len   = 100   #@param {type:\"integer\"}\n",
        "run_name  = \"demo\" #@param {type:\"string\"}\n",
        "num_vars  = 4      #@param {type:\"integer\"}\n",
        "\n",
        "# 1. Backbone\n",
        "import subprocess, pathlib, os, sys\n",
        "rf_cmd = [\n",
        "    \"python\",\"-m\",\"RFdiffusion.run_inference\",\n",
        "    f\"contigmap.contigs=[{seq_len}]\",\n",
        "    f\"inference.output_prefix=outputs/{run_name}\",\n",
        "    \"diffuser.T=50\",\"inference.num_designs=1\",\n",
        "    \"inference.dump_pdb=True\",\"inference.dump_pdb_path=/dev/shm\"\n",
        "]\n",
        "subprocess.check_call(rf_cmd)\n",
        "pdb = f\"outputs/{run_name}_0.pdb\"\n",
        "\n",
        "# 2. ProteinMPNN\n",
        "mpnn_cmd = [\n",
        "    \"python\",\"-m\",\"proteinmpnn.run\",\n",
        "    \"--pdb_path\", pdb,\"--num_seq_per_target\", str(num_vars),\n",
        "    \"--sampling_temp\",\"0.1\",\"--out_folder\",f\"outputs/{run_name}_mpnn\"\n",
        "]\n",
        "subprocess.check_call(mpnn_cmd)\n",
        "fa = sorted(pathlib.Path(f\"outputs/{run_name}_mpnn\").glob(\"*.fa\"))[0]\n",
        "\n",
        "# 3. ColabFold\n",
        "from colabfold.batch import run, get_queries\n",
        "q,_ = get_queries(str(fa))\n",
        "run(q, result_dir=f\"outputs/{run_name}_af2\", model_type=\"auto\", use_templates=False)\n",
        "print(\"🎉 Pipeline finished → outputs/\")\n",
        "\n"
      ]
    }
  ]
}