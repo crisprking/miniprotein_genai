{
  "nbformat": 4,
  "nbformat_minor": 0,
  "metadata": {
    "colab": {
      "provenance": [],
      "authorship_tag": "ABX9TyPd4tl0pZsYG2N5vIOvRdoy",
      "include_colab_link": true
    },
    "kernelspec": {
      "name": "python3",
      "display_name": "Python 3"
    },
    "language_info": {
      "name": "python"
    }
  },
  "cells": [
    {
      "cell_type": "markdown",
      "metadata": {
        "id": "view-in-github",
        "colab_type": "text"
      },
      "source": [
        "<a href=\"https://colab.research.google.com/github/crisprking/miniprotein_genai/blob/main/notebooks/03_validation_AlphaFold-ColabFold.ipynb\" target=\"_parent\"><img src=\"https://colab.research.google.com/assets/colab-badge.svg\" alt=\"Open In Colab\"/></a>"
      ]
    },
    {
      "cell_type": "code",
      "execution_count": null,
      "metadata": {
        "id": "dh937RT3JZ6L"
      },
      "outputs": [],
      "source": [
        "<details><summary>Cell 1 – Install ColabFold</summary>\n",
        "python\n",
        "\n",
        "#@title 🔧 Install ColabFold\n",
        "!pip install --quiet colabfold\n",
        "!pip install --quiet \"jax[cpu]\"\n",
        "\n",
        "</details> <details><summary>Cell 2 – Parameters</summary>\n",
        "python\n",
        "\n",
        "#@title ⚙️ Parameters\n",
        "query_fa   = \"outputs/mpnn/design1_0_seq0.fa\"  #@param {type:\"string\"}\n",
        "jobname    = \"af2_run\"                         #@param {type:\"string\"}\n",
        "recycles   = 3                                 #@param {type:\"integer\"}\n",
        "\n",
        "</details> <details><summary>Cell 3 – Run ColabFold</summary>\n",
        "python\n",
        "\n",
        "#@title 🚀 ColabFold predict\n",
        "from colabfold.batch import run, get_queries\n",
        "qs,_ = get_queries(query_fa)\n",
        "run(qs, result_dir=f\"outputs/af2/{jobname}\",\n",
        "    num_recycle=recycles, model_type=\"auto\", use_templates=False)\n",
        "print(\"✅ AlphaFold PDBs saved\")\n",
        "\n",
        "</details> <details><summary>Cell 4 – Visualise best model</summary>\n",
        "python\n",
        "\n",
        "#@title 👀 View best structure\n",
        "import glob, py3Dmol\n",
        "best = glob.glob(f\"outputs/af2/{jobname}/*rank_001*.pdb\")[0]\n",
        "v = py3Dmol.view(js='https://3dmol.org/build/3Dmol.js')\n",
        "v.addModel(open(best).read(),'pdb'); v.setStyle({'cartoon':{'color':'spectrum'}}); v.zoomTo(); v.show()\n",
        "\n",
        "\n",
        "\n",
        "\n",
        "\n"
      ]
    }
  ]
}